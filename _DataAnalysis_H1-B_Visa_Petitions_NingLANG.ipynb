{
 "cells": [
  {
   "cell_type": "markdown",
   "id": "1906b7e4",
   "metadata": {},
   "source": [
    "# Data analyst  challenge: H1-B Visa Petitions\n",
    "\n",
    "\n",
    "\n",
    "H1B visa is a temporary work visa in the USA for people with special skills. To obtain this visa, the applicant needs a job offer from a US employer, who files an H1B visa petition with the USCIS, including attestations about wages and working conditions. Once the petition is approved, the employee can obtain a visa stamp and work for the employer in the USA.\n",
    "\n",
    "In my prespective,I list the following objectives and tasks. \n",
    "\n",
    "### Objectives:\n",
    "\n",
    "1. Aggregate and wrangle data from US government on H1-B visa applications from 2014 to 2016.\n",
    "2. Perform data analysis to identify trends and insights\n",
    "3. Clean and preprocess data for modeling\n",
    "4. Develop and train models to predict visa petition outcomes\n",
    "5. Evaluate and compare model performance\n",
    "6. Summarize findings and provide recommendations\n",
    "\n",
    "### Tasks:\n",
    "1. Collect and download H1-B visa application data from US government websites\n",
    "2. Load data into a Jupyter notebook or other data analysis tool\n",
    "3. Explore and visualize the data to identify patterns, trends, and anomalies\n",
    "4. Clean and preprocess the data, handling missing values, outliers, and other data quality issues\n",
    "5. Engineer new features and variables to improve modeling performance\n",
    "6. Develop and train classification models to predict visa petition outcomes\n",
    "7. Evaluate and compare model performance using appropriate metrics and techniques\n",
    "8. Summarize findings and provide recommendations for employers and applicants seeking H1-B visas.\n"
   ]
  },
  {
   "cell_type": "code",
   "execution_count": 1,
   "id": "d0ef00bf",
   "metadata": {},
   "outputs": [],
   "source": [
    "import pandas as pd\n",
    "import urllib.request\n",
    "import io\n",
    "from collections import defaultdict\n",
    "import numpy as np\n",
    "import scipy.stats as stats\n",
    "import statsmodels.api as sm\n",
    "import matplotlib.pyplot as plt\n",
    "import seaborn as sns\n",
    "%matplotlib inline "
   ]
  },
  {
   "cell_type": "markdown",
   "id": "105e7dd7",
   "metadata": {},
   "source": [
    "# Aggregate and wrangle data from US government on H1-B visa applications from 2014 to 2016\n",
    "\n",
    "### Collect and download H1-B visa application data from US government websites\n"
   ]
  },
  {
   "cell_type": "code",
   "execution_count": 2,
   "id": "d543ad49",
   "metadata": {},
   "outputs": [],
   "source": [
    "url_14=\"https://www.dol.gov/sites/dolgov/files/ETA/oflc/pdfs/H-1B_FY14_Q4.xlsx\"\n",
    "res_14 = urllib.request.urlopen(url_14)\n",
    "df_14 = pd.read_excel(io.BytesIO(res_14.read()))"
   ]
  },
  {
   "cell_type": "code",
   "execution_count": 3,
   "id": "d8e53820",
   "metadata": {},
   "outputs": [],
   "source": [
    "url_15=\"https://www.dol.gov/sites/dolgov/files/ETA/oflc/pdfs/H-1B_Disclosure_Data_FY15_Q4.xlsx\"\n",
    "res_15 = urllib.request.urlopen(url_15)\n",
    "df_15 = pd.read_excel(io.BytesIO(res_15.read()))"
   ]
  },
  {
   "cell_type": "code",
   "execution_count": 4,
   "id": "54f5f0b1",
   "metadata": {},
   "outputs": [],
   "source": [
    "url_16=\"https://www.dol.gov/sites/dolgov/files/ETA/oflc/pdfs/H-1B_Disclosure_Data_FY16.xlsx\"\n",
    "res_16 = urllib.request.urlopen(url_16)\n",
    "df_16 = pd.read_excel(io.BytesIO(res_16.read()))"
   ]
  },
  {
   "cell_type": "code",
   "execution_count": 5,
   "id": "1a34c706",
   "metadata": {},
   "outputs": [],
   "source": [
    "d14=df_14.copy()\n",
    "d15=df_15.copy()\n",
    "d16=df_16.copy()"
   ]
  },
  {
   "cell_type": "markdown",
   "id": "4005a436",
   "metadata": {},
   "source": [
    "###  0. Preprocessing the data"
   ]
  },
  {
   "cell_type": "code",
   "execution_count": 6,
   "id": "9f550e23",
   "metadata": {},
   "outputs": [],
   "source": [
    "def removeUnderscores(df):\n",
    "    \n",
    "  for col in df.columns:\n",
    "        temp = col.replace('_', ' ')\n",
    "        df.rename(columns={col:temp}, inplace=True)\n",
    "    "
   ]
  },
  {
   "cell_type": "code",
   "execution_count": 7,
   "id": "59b091df",
   "metadata": {},
   "outputs": [],
   "source": [
    "def get_diffDtype(df1,df2):\n",
    "    \n",
    " dtypes_1=set(df1.dtypes.items())\n",
    " dtypes_2=set(df2.dtypes.items())\n",
    "    \n",
    " diff = set(dtypes_1.symmetric_difference(dtypes_2))\n",
    "\n",
    " return diff"
   ]
  },
  {
   "cell_type": "code",
   "execution_count": 8,
   "id": "c9d37065",
   "metadata": {},
   "outputs": [],
   "source": [
    "def get__diff(df1,df2,DataTypeError=0):\n",
    "    \n",
    "  diff=get_diffDtype(df1,df2)\n",
    "  data_dict = defaultdict(list)\n",
    "  DataType_Error=[]\n",
    "\n",
    "  for key, value in diff:\n",
    "    if key in data_dict:\n",
    "        DataType_Error.append(key)\n",
    "    data_dict[key].append(value)\n",
    "    \n",
    "  if DataTypeError==1: \n",
    "    return DataType_Error\n",
    "\n",
    "  else:\n",
    "        \n",
    "    for key in DataType_Error:\n",
    "      del data_dict[key]\n",
    "    \n",
    "    Sorted_Dic= sorted(data_dict.keys(), key=lambda x: x[0])\n",
    "    \n",
    "    return Sorted_Dic"
   ]
  },
  {
   "cell_type": "code",
   "execution_count": 9,
   "id": "2668ef03",
   "metadata": {},
   "outputs": [],
   "source": [
    "def oneContainOther(lst1, lst2):\n",
    "    \n",
    "    lst1.sort()\n",
    "    lst2.sort()\n",
    "    min_len = min(len(lst1),len(lst2))\n",
    "    \n",
    "    return lst1[:min_len] == lst2[:min_len]"
   ]
  },
  {
   "cell_type": "markdown",
   "id": "5dd8c315",
   "metadata": {},
   "source": [
    "####  Remove the LCA_CASE_ prefix from the column names in Y2014 Table\n",
    "To align the Y2014 table with other years' tables, I need to remove the \"LCA_CASE_\" prefix from the column names.This simple data processing step will help us to have consistent column names across all the tables, making it easier to merge them later."
   ]
  },
  {
   "cell_type": "code",
   "execution_count": 10,
   "id": "05633c5b",
   "metadata": {},
   "outputs": [],
   "source": [
    "lca_columns = d14.filter(regex='^LCA_CASE_').columns\n",
    "# remove the \"LCA_CASE\" prefix from the column names using string slicing\n",
    "new_column_names = [col[9:] for col in lca_columns]\n",
    "# create a new DataFrame with the selected columns and new names\n",
    "d14_new = pd.concat([d14.drop(columns=lca_columns), d14[lca_columns].rename(columns=dict(zip(lca_columns, new_column_names)))], axis=1)"
   ]
  },
  {
   "cell_type": "markdown",
   "id": "62ad0417",
   "metadata": {},
   "source": [
    "0.2. Remove underscores of column names. \n",
    "The column names of all tables should be standardized to facilitate easy merging. Therefore, remove any underscores in the column names of all tables."
   ]
  },
  {
   "cell_type": "code",
   "execution_count": 11,
   "id": "478cb9c9",
   "metadata": {},
   "outputs": [],
   "source": [
    "removeUnderscores(d14_new)\n",
    "removeUnderscores(d15)\n",
    "removeUnderscores(d16)"
   ]
  },
  {
   "cell_type": "markdown",
   "id": "4040b326",
   "metadata": {},
   "source": [
    "#### Valuate the columns with data type error and correct Data format."
   ]
  },
  {
   "cell_type": "code",
   "execution_count": 12,
   "id": "58ba61c1",
   "metadata": {},
   "outputs": [
    {
     "name": "stdout",
     "output_type": "stream",
     "text": [
      "Columns with data type error  :   ['EMPLOYER PHONE', 'EMPLOYMENT END DATE', 'EMPLOYMENT START DATE', 'TOTAL WORKERS', 'EMPLOYER PHONE EXT', 'FULL TIME POSITION']\n",
      "Columns with data type error  :   ['EMPLOYMENT END DATE', 'EMPLOYMENT START DATE']\n"
     ]
    }
   ],
   "source": [
    "DataType_Error15_16=get__diff(d15,d16,1)\n",
    "print('Columns with data type error  :  ',DataType_Error15_16)\n",
    "DataType_Error14_15=get__diff(d14_new,d15,1)\n",
    "print('Columns with data type error  :  ', DataType_Error14_15)"
   ]
  },
  {
   "cell_type": "code",
   "execution_count": 13,
   "id": "ad44f7e5",
   "metadata": {},
   "outputs": [
    {
     "name": "stderr",
     "output_type": "stream",
     "text": [
      "/opt/anaconda3/lib/python3.9/site-packages/pandas/core/tools/datetimes.py:1047: UserWarning: Parsing '31/07/2018' in DD/MM/YYYY format. Provide format or specify infer_datetime_format=True for consistent parsing.\n",
      "  cache_array = _maybe_cache(arg, format, cache, convert_listlike)\n",
      "/opt/anaconda3/lib/python3.9/site-packages/pandas/core/tools/datetimes.py:1047: UserWarning: Parsing '30/09/2017' in DD/MM/YYYY format. Provide format or specify infer_datetime_format=True for consistent parsing.\n",
      "  cache_array = _maybe_cache(arg, format, cache, convert_listlike)\n",
      "/opt/anaconda3/lib/python3.9/site-packages/pandas/core/tools/datetimes.py:1047: UserWarning: Parsing '31/10/2017' in DD/MM/YYYY format. Provide format or specify infer_datetime_format=True for consistent parsing.\n",
      "  cache_array = _maybe_cache(arg, format, cache, convert_listlike)\n",
      "/opt/anaconda3/lib/python3.9/site-packages/pandas/core/tools/datetimes.py:1047: UserWarning: Parsing '15/04/2018' in DD/MM/YYYY format. Provide format or specify infer_datetime_format=True for consistent parsing.\n",
      "  cache_array = _maybe_cache(arg, format, cache, convert_listlike)\n",
      "/opt/anaconda3/lib/python3.9/site-packages/pandas/core/tools/datetimes.py:1047: UserWarning: Parsing '30/06/2018' in DD/MM/YYYY format. Provide format or specify infer_datetime_format=True for consistent parsing.\n",
      "  cache_array = _maybe_cache(arg, format, cache, convert_listlike)\n",
      "/opt/anaconda3/lib/python3.9/site-packages/pandas/core/tools/datetimes.py:1047: UserWarning: Parsing '15/06/2018' in DD/MM/YYYY format. Provide format or specify infer_datetime_format=True for consistent parsing.\n",
      "  cache_array = _maybe_cache(arg, format, cache, convert_listlike)\n",
      "/opt/anaconda3/lib/python3.9/site-packages/pandas/core/tools/datetimes.py:1047: UserWarning: Parsing '31/12/2016' in DD/MM/YYYY format. Provide format or specify infer_datetime_format=True for consistent parsing.\n",
      "  cache_array = _maybe_cache(arg, format, cache, convert_listlike)\n",
      "/opt/anaconda3/lib/python3.9/site-packages/pandas/core/tools/datetimes.py:1047: UserWarning: Parsing '31/08/2018' in DD/MM/YYYY format. Provide format or specify infer_datetime_format=True for consistent parsing.\n",
      "  cache_array = _maybe_cache(arg, format, cache, convert_listlike)\n",
      "/opt/anaconda3/lib/python3.9/site-packages/pandas/core/tools/datetimes.py:1047: UserWarning: Parsing '29/01/2018' in DD/MM/YYYY format. Provide format or specify infer_datetime_format=True for consistent parsing.\n",
      "  cache_array = _maybe_cache(arg, format, cache, convert_listlike)\n",
      "/opt/anaconda3/lib/python3.9/site-packages/pandas/core/tools/datetimes.py:1047: UserWarning: Parsing '18/03/2018' in DD/MM/YYYY format. Provide format or specify infer_datetime_format=True for consistent parsing.\n",
      "  cache_array = _maybe_cache(arg, format, cache, convert_listlike)\n",
      "/opt/anaconda3/lib/python3.9/site-packages/pandas/core/tools/datetimes.py:1047: UserWarning: Parsing '15/09/2018' in DD/MM/YYYY format. Provide format or specify infer_datetime_format=True for consistent parsing.\n",
      "  cache_array = _maybe_cache(arg, format, cache, convert_listlike)\n",
      "/opt/anaconda3/lib/python3.9/site-packages/pandas/core/tools/datetimes.py:1047: UserWarning: Parsing '16/04/2017' in DD/MM/YYYY format. Provide format or specify infer_datetime_format=True for consistent parsing.\n",
      "  cache_array = _maybe_cache(arg, format, cache, convert_listlike)\n",
      "/opt/anaconda3/lib/python3.9/site-packages/pandas/core/tools/datetimes.py:1047: UserWarning: Parsing '31/05/2017' in DD/MM/YYYY format. Provide format or specify infer_datetime_format=True for consistent parsing.\n",
      "  cache_array = _maybe_cache(arg, format, cache, convert_listlike)\n",
      "/opt/anaconda3/lib/python3.9/site-packages/pandas/core/tools/datetimes.py:1047: UserWarning: Parsing '14/06/2017' in DD/MM/YYYY format. Provide format or specify infer_datetime_format=True for consistent parsing.\n",
      "  cache_array = _maybe_cache(arg, format, cache, convert_listlike)\n",
      "/opt/anaconda3/lib/python3.9/site-packages/pandas/core/tools/datetimes.py:1047: UserWarning: Parsing '15/04/2015' in DD/MM/YYYY format. Provide format or specify infer_datetime_format=True for consistent parsing.\n",
      "  cache_array = _maybe_cache(arg, format, cache, convert_listlike)\n",
      "/opt/anaconda3/lib/python3.9/site-packages/pandas/core/tools/datetimes.py:1047: UserWarning: Parsing '15/02/2015' in DD/MM/YYYY format. Provide format or specify infer_datetime_format=True for consistent parsing.\n",
      "  cache_array = _maybe_cache(arg, format, cache, convert_listlike)\n",
      "/opt/anaconda3/lib/python3.9/site-packages/pandas/core/tools/datetimes.py:1047: UserWarning: Parsing '15/06/2015' in DD/MM/YYYY format. Provide format or specify infer_datetime_format=True for consistent parsing.\n",
      "  cache_array = _maybe_cache(arg, format, cache, convert_listlike)\n",
      "/opt/anaconda3/lib/python3.9/site-packages/pandas/core/tools/datetimes.py:1047: UserWarning: Parsing '19/03/2015' in DD/MM/YYYY format. Provide format or specify infer_datetime_format=True for consistent parsing.\n",
      "  cache_array = _maybe_cache(arg, format, cache, convert_listlike)\n",
      "/opt/anaconda3/lib/python3.9/site-packages/pandas/core/tools/datetimes.py:1047: UserWarning: Parsing '15/09/2015' in DD/MM/YYYY format. Provide format or specify infer_datetime_format=True for consistent parsing.\n",
      "  cache_array = _maybe_cache(arg, format, cache, convert_listlike)\n",
      "/opt/anaconda3/lib/python3.9/site-packages/pandas/core/tools/datetimes.py:1047: UserWarning: Parsing '14/08/2015' in DD/MM/YYYY format. Provide format or specify infer_datetime_format=True for consistent parsing.\n",
      "  cache_array = _maybe_cache(arg, format, cache, convert_listlike)\n",
      "/opt/anaconda3/lib/python3.9/site-packages/pandas/core/tools/datetimes.py:1047: UserWarning: Parsing '17/04/2015' in DD/MM/YYYY format. Provide format or specify infer_datetime_format=True for consistent parsing.\n",
      "  cache_array = _maybe_cache(arg, format, cache, convert_listlike)\n"
     ]
    }
   ],
   "source": [
    "d15['EMPLOYMENT END DATE']=pd.to_datetime(d15['EMPLOYMENT END DATE'], errors='coerce')\n",
    "d15['EMPLOYMENT START DATE']=pd.to_datetime(d15['EMPLOYMENT START DATE'], errors='coerce')\n",
    "d16['TOTAL WORKERS']=d16['TOTAL WORKERS'].astype(float)\n",
    "d15['FULL TIME POSITION'] = d15['FULL TIME POSITION'].replace({'Y': 1, 'N': 0})"
   ]
  },
  {
   "cell_type": "markdown",
   "id": "8cc2a0be",
   "metadata": {},
   "source": [
    "####  Align column names with the same definitions across different tables (Y2014, Y2015, Y2016) to ensure consistency and enable easy merging of the tables."
   ]
  },
  {
   "cell_type": "code",
   "execution_count": 14,
   "id": "29f066a1",
   "metadata": {},
   "outputs": [],
   "source": [
    "Diff14_15=get__diff(d14_new,d15)"
   ]
  },
  {
   "cell_type": "code",
   "execution_count": 15,
   "id": "f5ea6c94",
   "metadata": {},
   "outputs": [],
   "source": [
    "Diff16_15=get__diff(d15,d16)"
   ]
  },
  {
   "cell_type": "code",
   "execution_count": 16,
   "id": "ef065f7f",
   "metadata": {},
   "outputs": [],
   "source": [
    "Columns_dictionary = {\n",
    "    \"PW SOURCE OTHER\":\"PW WAGE SOURCE OTHER\",\n",
    "    \"FULL TIME POS\":\"FULL TIME POSITION\", \n",
    "    \"PW 1\":\"PREVAILING WAGE\",\n",
    "    \"PW UNIT 1\": \"PW UNIT OF PAY\",\n",
    "    \"PW SOURCE 1\": \"PW WAGE SOURCE\",\n",
    "    \"YR SOURCE PUB 1\": \"PW WAGE SOURCE YEAR\",\n",
    "    \"OTHER WAGE SOURCE 1\":\"PW WAGE SOURCE OTHER\",\n",
    "    \"WAGE RATE FROM\":\"WAGE RATE OF PAY FROM\",\n",
    "    \"WAGE RATE TO\":'WAGE RATE OF PAY TO',\n",
    "    \"WAGE RATE UNIT\":\"WAGE UNIT OF PAY\",\n",
    "    \"WORKLOC1 CITY\":\"WORKSITE CITY\",\n",
    "    \"WORKLOC1 STATE\":\"WORKSITE COUNTY\",\n",
    "    \"NUMBER\":\"CASE NUMBER\",\n",
    "    \"STATUS\":\"CASE STATUS\",\n",
    "    \"SUBMIT\":\"CASE SUBMITTED\",\n",
    "    \"NAICS CODE\":\"NAIC CODE\",\n",
    "    \"WAGE RATE OF PAY FROM\": \"WAGE RATE OF PAY\",\n",
    "}"
   ]
  },
  {
   "cell_type": "code",
   "execution_count": 17,
   "id": "0371b506",
   "metadata": {},
   "outputs": [],
   "source": [
    "d14_new = d14_new.rename(columns=Columns_dictionary)\n",
    "d15_new= d15.rename(columns=Columns_dictionary)\n",
    "d16_new= d16.rename(columns=Columns_dictionary)"
   ]
  },
  {
   "cell_type": "code",
   "execution_count": 18,
   "id": "598855a3",
   "metadata": {},
   "outputs": [],
   "source": [
    "d14_new['YEAR']=2014\n",
    "d15_new['YEAR']=2015\n",
    "d16_new['YEAR']=2016"
   ]
  },
  {
   "cell_type": "markdown",
   "id": "a605dd64",
   "metadata": {},
   "source": [
    "### 1.Merge Datasets"
   ]
  },
  {
   "cell_type": "code",
   "execution_count": 19,
   "id": "dab22a0e",
   "metadata": {},
   "outputs": [
    {
     "data": {
      "text/html": [
       "<div>\n",
       "<style scoped>\n",
       "    .dataframe tbody tr th:only-of-type {\n",
       "        vertical-align: middle;\n",
       "    }\n",
       "\n",
       "    .dataframe tbody tr th {\n",
       "        vertical-align: top;\n",
       "    }\n",
       "\n",
       "    .dataframe thead th {\n",
       "        text-align: right;\n",
       "    }\n",
       "</style>\n",
       "<table border=\"1\" class=\"dataframe\">\n",
       "  <thead>\n",
       "    <tr style=\"text-align: right;\">\n",
       "      <th></th>\n",
       "      <th>TOTAL WORKERS</th>\n",
       "      <th>PREVAILING WAGE</th>\n",
       "      <th>PW WAGE SOURCE YEAR</th>\n",
       "      <th>PW 2</th>\n",
       "      <th>WAGE RATE OF PAY FROM</th>\n",
       "      <th>WAGE RATE OF PAY TO</th>\n",
       "      <th>NAIC CODE</th>\n",
       "      <th>YEAR</th>\n",
       "      <th>PW SOURCE YEAR</th>\n",
       "    </tr>\n",
       "  </thead>\n",
       "  <tbody>\n",
       "    <tr>\n",
       "      <th>count</th>\n",
       "      <td>1.786142e+06</td>\n",
       "      <td>1.786008e+06</td>\n",
       "      <td>1.138143e+06</td>\n",
       "      <td>8.390900e+04</td>\n",
       "      <td>5.194680e+05</td>\n",
       "      <td>7.507830e+05</td>\n",
       "      <td>1.786110e+06</td>\n",
       "      <td>1.786160e+06</td>\n",
       "      <td>647791.000000</td>\n",
       "    </tr>\n",
       "    <tr>\n",
       "      <th>mean</th>\n",
       "      <td>2.006830e+00</td>\n",
       "      <td>6.895872e+04</td>\n",
       "      <td>2.013771e+03</td>\n",
       "      <td>7.894272e+04</td>\n",
       "      <td>9.221640e+04</td>\n",
       "      <td>3.487392e+04</td>\n",
       "      <td>4.616868e+05</td>\n",
       "      <td>2.015072e+03</td>\n",
       "      <td>2015.189675</td>\n",
       "    </tr>\n",
       "    <tr>\n",
       "      <th>std</th>\n",
       "      <td>5.320894e+00</td>\n",
       "      <td>8.287930e+05</td>\n",
       "      <td>3.835934e+00</td>\n",
       "      <td>2.458163e+06</td>\n",
       "      <td>1.017462e+07</td>\n",
       "      <td>6.128369e+04</td>\n",
       "      <td>8.796828e+05</td>\n",
       "      <td>8.052286e-01</td>\n",
       "      <td>8.485919</td>\n",
       "    </tr>\n",
       "    <tr>\n",
       "      <th>min</th>\n",
       "      <td>0.000000e+00</td>\n",
       "      <td>0.000000e+00</td>\n",
       "      <td>0.000000e+00</td>\n",
       "      <td>0.000000e+00</td>\n",
       "      <td>0.000000e+00</td>\n",
       "      <td>0.000000e+00</td>\n",
       "      <td>0.000000e+00</td>\n",
       "      <td>2.014000e+03</td>\n",
       "      <td>0.000000</td>\n",
       "    </tr>\n",
       "    <tr>\n",
       "      <th>25%</th>\n",
       "      <td>1.000000e+00</td>\n",
       "      <td>5.403800e+04</td>\n",
       "      <td>2.013000e+03</td>\n",
       "      <td>5.277000e+04</td>\n",
       "      <td>6.000000e+04</td>\n",
       "      <td>0.000000e+00</td>\n",
       "      <td>5.172120e+05</td>\n",
       "      <td>2.014000e+03</td>\n",
       "      <td>2015.000000</td>\n",
       "    </tr>\n",
       "    <tr>\n",
       "      <th>50%</th>\n",
       "      <td>1.000000e+00</td>\n",
       "      <td>6.518700e+04</td>\n",
       "      <td>2.014000e+03</td>\n",
       "      <td>6.256600e+04</td>\n",
       "      <td>7.000000e+04</td>\n",
       "      <td>0.000000e+00</td>\n",
       "      <td>5.415110e+05</td>\n",
       "      <td>2.015000e+03</td>\n",
       "      <td>2015.000000</td>\n",
       "    </tr>\n",
       "    <tr>\n",
       "      <th>75%</th>\n",
       "      <td>1.000000e+00</td>\n",
       "      <td>8.178600e+04</td>\n",
       "      <td>2.014000e+03</td>\n",
       "      <td>7.737600e+04</td>\n",
       "      <td>9.000000e+04</td>\n",
       "      <td>7.798800e+04</td>\n",
       "      <td>5.415110e+05</td>\n",
       "      <td>2.016000e+03</td>\n",
       "      <td>2016.000000</td>\n",
       "    </tr>\n",
       "    <tr>\n",
       "      <th>max</th>\n",
       "      <td>2.013000e+03</td>\n",
       "      <td>8.201323e+08</td>\n",
       "      <td>2.016000e+03</td>\n",
       "      <td>6.036204e+08</td>\n",
       "      <td>7.278873e+09</td>\n",
       "      <td>1.000003e+07</td>\n",
       "      <td>8.129908e+08</td>\n",
       "      <td>2.016000e+03</td>\n",
       "      <td>7201.000000</td>\n",
       "    </tr>\n",
       "  </tbody>\n",
       "</table>\n",
       "</div>"
      ],
      "text/plain": [
       "       TOTAL WORKERS  PREVAILING WAGE  PW WAGE SOURCE YEAR          PW 2  \\\n",
       "count   1.786142e+06     1.786008e+06         1.138143e+06  8.390900e+04   \n",
       "mean    2.006830e+00     6.895872e+04         2.013771e+03  7.894272e+04   \n",
       "std     5.320894e+00     8.287930e+05         3.835934e+00  2.458163e+06   \n",
       "min     0.000000e+00     0.000000e+00         0.000000e+00  0.000000e+00   \n",
       "25%     1.000000e+00     5.403800e+04         2.013000e+03  5.277000e+04   \n",
       "50%     1.000000e+00     6.518700e+04         2.014000e+03  6.256600e+04   \n",
       "75%     1.000000e+00     8.178600e+04         2.014000e+03  7.737600e+04   \n",
       "max     2.013000e+03     8.201323e+08         2.016000e+03  6.036204e+08   \n",
       "\n",
       "       WAGE RATE OF PAY FROM  WAGE RATE OF PAY TO     NAIC CODE          YEAR  \\\n",
       "count           5.194680e+05         7.507830e+05  1.786110e+06  1.786160e+06   \n",
       "mean            9.221640e+04         3.487392e+04  4.616868e+05  2.015072e+03   \n",
       "std             1.017462e+07         6.128369e+04  8.796828e+05  8.052286e-01   \n",
       "min             0.000000e+00         0.000000e+00  0.000000e+00  2.014000e+03   \n",
       "25%             6.000000e+04         0.000000e+00  5.172120e+05  2.014000e+03   \n",
       "50%             7.000000e+04         0.000000e+00  5.415110e+05  2.015000e+03   \n",
       "75%             9.000000e+04         7.798800e+04  5.415110e+05  2.016000e+03   \n",
       "max             7.278873e+09         1.000003e+07  8.129908e+08  2.016000e+03   \n",
       "\n",
       "       PW SOURCE YEAR  \n",
       "count   647791.000000  \n",
       "mean      2015.189675  \n",
       "std          8.485919  \n",
       "min          0.000000  \n",
       "25%       2015.000000  \n",
       "50%       2015.000000  \n",
       "75%       2016.000000  \n",
       "max       7201.000000  "
      ]
     },
     "execution_count": 19,
     "metadata": {},
     "output_type": "execute_result"
    }
   ],
   "source": [
    "df = pd.concat([d14_new, d15_new, d16_new])\n",
    "df.describe()"
   ]
  },
  {
   "cell_type": "markdown",
   "id": "b2fef30f",
   "metadata": {},
   "source": [
    "### 2. Clean the Dataset"
   ]
  },
  {
   "cell_type": "markdown",
   "id": "90597904",
   "metadata": {},
   "source": [
    "###  Drop unnecessary columns:"
   ]
  },
  {
   "cell_type": "code",
   "execution_count": 20,
   "id": "12a91aa8",
   "metadata": {},
   "outputs": [],
   "source": [
    "columns_to_drop = [\n",
    " 'EMPLOYER ADDRESS',\n",
    " 'EMPLOYER ADDRESS2',\n",
    " 'EMPLOYER ADDRESS1',\n",
    " 'EMPLOYER PHONE',\n",
    " 'EMPLOYER COUNTRY',\n",
    " 'EMPLOYER PHONE EXT',\n",
    " 'EMPLOYER PROVINCE',\n",
    " 'EMPLOYER STATE',\n",
    " 'EMPLOYER CITY',\n",
    " #'EMPLOYER POSTAL CODE'\n",
    "    \n",
    " 'AGENT ATTORNEY NAME',\n",
    " 'AGENT ATTORNEY STATE',\n",
    " 'AGENT ATTORNEY CITY',\n",
    "    \n",
    "  #'PW WAGE LEVEL', \n",
    " 'PW SOURCE YEAR',\n",
    " 'PW WAGE SOURCE YEAR',\n",
    "\n",
    " 'PW SOURCE 2',\n",
    " 'OTHER WAGE SOURCE 2',\n",
    " 'WAGE RATE OF PAY TO',\n",
    "    \n",
    " 'WORKSITE POSTAL CODE',\n",
    " 'WORKSITE STATE',\n",
    " 'WORKSITE COUNTY',\n",
    " \n",
    " 'WORKLOC2 CITY',\n",
    " 'WORKLOC2 STATE',\n",
    "\n",
    " 'YR SOURCE PUB 2',\n",
    " 'YR SOURCE PUB 1',\n",
    "    \n",
    " 'WILLFUL VIOLATOR',\n",
    " 'H-1B DEPENDENT',\n",
    " 'FULL TIME POS',\n",
    " 'ORIGINAL CERT DATE']"
   ]
  },
  {
   "cell_type": "code",
   "execution_count": 21,
   "id": "78fdd7bc",
   "metadata": {},
   "outputs": [],
   "source": [
    "columns_to_drop = list(set(df.columns).intersection(columns_to_drop))\n",
    "# drop the columns that exist in the list\n",
    "df = df.drop(columns=columns_to_drop)"
   ]
  },
  {
   "cell_type": "markdown",
   "id": "53d404f4",
   "metadata": {},
   "source": [
    "### Evaluating for missing data. "
   ]
  },
  {
   "cell_type": "code",
   "execution_count": 22,
   "id": "ec4ae561",
   "metadata": {},
   "outputs": [
    {
     "name": "stdout",
     "output_type": "stream",
     "text": [
      "CASE STATUS\n",
      "False    1786160\n",
      "Name: CASE STATUS, dtype: int64\n",
      "\n",
      "DECISION DATE\n",
      "False    1786160\n",
      "Name: DECISION DATE, dtype: int64\n",
      "\n",
      "VISA CLASS\n",
      "False    1786160\n",
      "Name: VISA CLASS, dtype: int64\n",
      "\n",
      "FULL TIME POSITION\n",
      "False    1138290\n",
      "True      647870\n",
      "Name: FULL TIME POSITION, dtype: int64\n",
      "\n",
      "TOTAL WORKERS\n",
      "False    1786142\n",
      "True          18\n",
      "Name: TOTAL WORKERS, dtype: int64\n",
      "\n",
      "PREVAILING WAGE\n",
      "False    1786008\n",
      "True         152\n",
      "Name: PREVAILING WAGE, dtype: int64\n",
      "\n",
      "PW UNIT OF PAY\n",
      "False    1785957\n",
      "True         203\n",
      "Name: PW UNIT OF PAY, dtype: int64\n",
      "\n",
      "PW WAGE SOURCE\n",
      "False    1785953\n",
      "True         207\n",
      "Name: PW WAGE SOURCE, dtype: int64\n",
      "\n",
      "PW WAGE SOURCE OTHER\n",
      "False    1756118\n",
      "True       30042\n",
      "Name: PW WAGE SOURCE OTHER, dtype: int64\n",
      "\n",
      "PW 2\n",
      "True     1702251\n",
      "False      83909\n",
      "Name: PW 2, dtype: int64\n",
      "\n",
      "PW UNIT 2\n",
      "True     1702250\n",
      "False      83910\n",
      "Name: PW UNIT 2, dtype: int64\n",
      "\n",
      "CASE NUMBER\n",
      "False    1786160\n",
      "Name: CASE NUMBER, dtype: int64\n",
      "\n",
      "CASE SUBMITTED\n",
      "False    1786160\n",
      "Name: CASE SUBMITTED, dtype: int64\n",
      "\n",
      "EMPLOYMENT START DATE\n",
      "False    1786118\n",
      "True          42\n",
      "Name: EMPLOYMENT START DATE, dtype: int64\n",
      "\n",
      "EMPLOYMENT END DATE\n",
      "False    1786111\n",
      "True          49\n",
      "Name: EMPLOYMENT END DATE, dtype: int64\n",
      "\n",
      "EMPLOYER NAME\n",
      "False    1786094\n",
      "True          66\n",
      "Name: EMPLOYER NAME, dtype: int64\n",
      "\n",
      "EMPLOYER POSTAL CODE\n",
      "False    1786060\n",
      "True         100\n",
      "Name: EMPLOYER POSTAL CODE, dtype: int64\n",
      "\n",
      "SOC CODE\n",
      "False    1786088\n",
      "True          72\n",
      "Name: SOC CODE, dtype: int64\n",
      "\n",
      "SOC NAME\n",
      "False    1781865\n",
      "True        4295\n",
      "Name: SOC NAME, dtype: int64\n",
      "\n",
      "JOB TITLE\n",
      "False    1786126\n",
      "True          34\n",
      "Name: JOB TITLE, dtype: int64\n",
      "\n",
      "WAGE RATE OF PAY FROM\n",
      "True     1266692\n",
      "False     519468\n",
      "Name: WAGE RATE OF PAY FROM, dtype: int64\n",
      "\n",
      "WAGE UNIT OF PAY\n",
      "False    1786084\n",
      "True          76\n",
      "Name: WAGE UNIT OF PAY, dtype: int64\n",
      "\n",
      "WORKSITE CITY\n",
      "False    1786058\n",
      "True         102\n",
      "Name: WORKSITE CITY, dtype: int64\n",
      "\n",
      "NAIC CODE\n",
      "False    1786110\n",
      "True          50\n",
      "Name: NAIC CODE, dtype: int64\n",
      "\n",
      "YEAR\n",
      "False    1786160\n",
      "Name: YEAR, dtype: int64\n",
      "\n",
      "PW WAGE LEVEL\n",
      "True     1196064\n",
      "False     590096\n",
      "Name: PW WAGE LEVEL, dtype: int64\n",
      "\n",
      "WAGE RATE OF PAY\n",
      "False    1266656\n",
      "True      519504\n",
      "Name: WAGE RATE OF PAY, dtype: int64\n",
      "\n"
     ]
    }
   ],
   "source": [
    "# Count missing values in each column. \n",
    "missing_data=df.isnull()\n",
    "for column in missing_data.columns.values.tolist():\n",
    "    print(column)\n",
    "    print (missing_data[column].value_counts())\n",
    "    print(\"\")"
   ]
  },
  {
   "cell_type": "markdown",
   "id": "3ee0c907",
   "metadata": {},
   "source": [
    "### Ensure common units of measurement.\n",
    "Calculate the annual wage based on the unit of pay (monthly, weekly, bi-weekly, daily) to standardize the units of measurement."
   ]
  },
  {
   "cell_type": "code",
   "execution_count": 23,
   "id": "c24f3886",
   "metadata": {},
   "outputs": [],
   "source": [
    "df['WAGE RATE OF PAY'] = df['WAGE RATE OF PAY'].apply(lambda x: ''.join(filter(str.isdigit, str(x))) if isinstance(x, str) else x)\n",
    "df['WAGE RATE OF PAY'] = pd.to_numeric(df['WAGE RATE OF PAY'], errors='coerce')"
   ]
  },
  {
   "cell_type": "code",
   "execution_count": 24,
   "id": "e3beecfd",
   "metadata": {},
   "outputs": [],
   "source": [
    "month_rows = df['PW UNIT OF PAY'] == 'Month'\n",
    "hour_rows = df['PW UNIT OF PAY'] == 'Hour'\n",
    "week_rows = df['PW UNIT OF PAY'] == 'Week'\n",
    "biweekly_rows = df['PW UNIT OF PAY'] == 'Bi-Weekly'\n",
    "\n",
    "df.loc[month_rows, 'PREVAILING WAGE'] *= 12\n",
    "df.loc[hour_rows, 'PREVAILING WAGE'] *= 12 * 4 * 5 * 8\n",
    "df.loc[week_rows, 'PREVAILING WAGE'] *= 12 * 4\n",
    "df.loc[biweekly_rows, 'PREVAILING WAGE'] *= 12 * 2\n",
    "\n",
    "# Update 'WAGE RATE OF PAY' based on 'WAGE UNIT OF PAY'\n",
    "month_rows = df['WAGE UNIT OF PAY'] == 'Month'\n",
    "hour_rows = df['WAGE UNIT OF PAY'] == 'Hour'\n",
    "week_rows = df['WAGE UNIT OF PAY'] == 'Week'\n",
    "biweekly_rows = df['WAGE UNIT OF PAY'] == 'Bi-Weekly'\n",
    "\n",
    "df.loc[month_rows, 'WAGE RATE OF PAY'] *= 12\n",
    "df.loc[hour_rows, 'WAGE RATE OF PAY'] *= 12 * 4 * 5 * 8\n",
    "df.loc[week_rows, 'WAGE RATE OF PAY'] *= 12 * 4\n",
    "df.loc[biweekly_rows, 'WAGE RATE OF PAY'] *= 12 * 2\n",
    "\n",
    "# Update 'PW 2' based on 'PW UNIT 2'\n",
    "month_rows = df['PW UNIT 2'] == 'Month'\n",
    "hour_rows = df['PW UNIT 2'] == 'Hour'\n",
    "week_rows = df['PW UNIT 2'] == 'Week'\n",
    "biweekly_rows = df['PW UNIT 2'] == 'Bi-Weekly'\n",
    "\n",
    "df.loc[month_rows, 'PW 2'] *= 12\n",
    "df.loc[hour_rows, 'PW 2'] *= 12 * 4 * 5 * 8\n",
    "df.loc[week_rows, 'PW 2'] *= 12 * 4\n",
    "df.loc[biweekly_rows, 'PW 2'] *= 12 * 2\n"
   ]
  },
  {
   "cell_type": "markdown",
   "id": "c5e1c5e4",
   "metadata": {},
   "source": [
    "###  Dealing with missing data.\n",
    "Drop the whole row or whole column or replace the data."
   ]
  },
  {
   "cell_type": "code",
   "execution_count": 25,
   "id": "a07a0a88",
   "metadata": {},
   "outputs": [],
   "source": [
    "df['TOTAL WORKERS'].replace(np.nan,0,inplace=True)\n",
    "# Replace NaN values in 'TOTAL WORKERS' column with values 0.\n",
    "df['EMPLOYER NAME'].replace(np.nan,'unknown',inplace=True)\n",
    "#  Replace NaN values in 'EMPLOYER NAME' column with  'unkown'.\n",
    "df['PW WAGE SOURCE'] = np.where(df['PW WAGE SOURCE'].isnull(), df['PW WAGE SOURCE OTHER'], df['PW WAGE SOURCE'])\n",
    "df['PREVAILING WAGE'] = np.where(df['PREVAILING WAGE'].isnull(), df['PW 2'], df['PREVAILING WAGE'])\n",
    "#Replace NaN values\n",
    "df['WAGE RATE OF PAY'] = np.where(df['WAGE RATE OF PAY'].isnull(), df['PREVAILING WAGE'],df['WAGE RATE OF PAY'])\n",
    "df['WAGE RATE OF PAY'] = np.where(df['WAGE RATE OF PAY'].isnull(), 0,df['WAGE RATE OF PAY'])"
   ]
  },
  {
   "cell_type": "code",
   "execution_count": 26,
   "id": "6f92e192",
   "metadata": {},
   "outputs": [],
   "source": [
    "df = df.drop(columns=['WAGE UNIT OF PAY','PW UNIT OF PAY','PW 2','FULL TIME POSITION',\n",
    "                      'PW WAGE SOURCE OTHER','PW UNIT 2','WAGE RATE OF PAY FROM'])"
   ]
  },
  {
   "cell_type": "code",
   "execution_count": 27,
   "id": "626785bb",
   "metadata": {},
   "outputs": [],
   "source": [
    "df=df.set_index('CASE NUMBER')"
   ]
  },
  {
   "cell_type": "markdown",
   "id": "041243f6",
   "metadata": {},
   "source": [
    "### 3.Sanity checking new data"
   ]
  },
  {
   "cell_type": "markdown",
   "id": "6b010527",
   "metadata": {},
   "source": [
    "#### Deal with Wage Data\n",
    "I created a new categorical variable \"PW WAGE LEVEL\" by grouping \"PREVAILING WAGE\" into different wage ranges. Then based on the wage range, I assigned the corresponding \"PW WAGE LEVEL\" label to each row. This allows for easy comparison of different wage levels in the dataset.And, Then filter the unreasonable value."
   ]
  },
  {
   "cell_type": "code",
   "execution_count": 28,
   "id": "1279dd87",
   "metadata": {},
   "outputs": [],
   "source": [
    "PW_wageRanges = df.groupby(\"PW WAGE LEVEL\").agg({\"PREVAILING WAGE\": [\"min\", \"max\"]})\n",
    "PW_wageRanges = PW_wageRanges.reset_index()\n",
    "PW_wageRanges.columns = [\"PW WAGE LEVEL\", \"MIN\", \"MAX\"]\n",
    "bins = sorted(PW_wageRanges['MIN'].unique()) + [PW_wageRanges['MAX'].max()]\n",
    "df[\"PW WAGE LEVEL\"] = pd.cut(df[\"PREVAILING WAGE\"], bins=bins, labels=PW_wageRanges[\"PW WAGE LEVEL\"])"
   ]
  },
  {
   "cell_type": "code",
   "execution_count": 29,
   "id": "ea1a48f4",
   "metadata": {},
   "outputs": [],
   "source": [
    "bins = sorted(PW_wageRanges['MIN'].unique()) + [PW_wageRanges['MAX'].max()]\n",
    "df[\"WAGE LEVEL\"] = pd.cut(df[\"WAGE RATE OF PAY\"], bins=bins, labels=PW_wageRanges[\"PW WAGE LEVEL\"])"
   ]
  },
  {
   "cell_type": "code",
   "execution_count": 30,
   "id": "699de45f",
   "metadata": {},
   "outputs": [],
   "source": [
    "df=df[df['PREVAILING WAGE']>0]\n",
    "df=df[df['WAGE RATE OF PAY']>0]"
   ]
  },
  {
   "cell_type": "markdown",
   "id": "b61e7a2b",
   "metadata": {},
   "source": [
    "#### Deal with NAICS Data\n",
    "The NAICS is a standardized classification system used in North American to categorize businesses into specific industry sectors based on their economic activity. The system is organized into hierarchical levels, with the first two digits representing the largest sector, the third digit representing the subsector, and subsequent digits representing specific industries.\n",
    "\n",
    "I load a NAICS mapping table from a Wikipedia page and renames the columns to match the ones in the data frame. I selected the first two digits from the 'NAIC CODE' column, merged the resulting data frame with the original one to get industry names, and then droped the 'NAIC CODE' column afterwards."
   ]
  },
  {
   "cell_type": "code",
   "execution_count": 31,
   "id": "b80360a2",
   "metadata": {},
   "outputs": [
    {
     "data": {
      "text/html": [
       "<div>\n",
       "<style scoped>\n",
       "    .dataframe tbody tr th:only-of-type {\n",
       "        vertical-align: middle;\n",
       "    }\n",
       "\n",
       "    .dataframe tbody tr th {\n",
       "        vertical-align: top;\n",
       "    }\n",
       "\n",
       "    .dataframe thead th {\n",
       "        text-align: right;\n",
       "    }\n",
       "</style>\n",
       "<table border=\"1\" class=\"dataframe\">\n",
       "  <thead>\n",
       "    <tr style=\"text-align: right;\">\n",
       "      <th></th>\n",
       "      <th>NAIC CODE</th>\n",
       "      <th>INDUSTRY</th>\n",
       "    </tr>\n",
       "  </thead>\n",
       "  <tbody>\n",
       "    <tr>\n",
       "      <th>0</th>\n",
       "      <td>11</td>\n",
       "      <td>Agriculture, Forestry, Fishing and Hunting</td>\n",
       "    </tr>\n",
       "    <tr>\n",
       "      <th>1</th>\n",
       "      <td>21</td>\n",
       "      <td>Mining, Quarrying, and Oil and Gas Extraction</td>\n",
       "    </tr>\n",
       "    <tr>\n",
       "      <th>2</th>\n",
       "      <td>22</td>\n",
       "      <td>Utilities</td>\n",
       "    </tr>\n",
       "    <tr>\n",
       "      <th>3</th>\n",
       "      <td>23</td>\n",
       "      <td>Construction</td>\n",
       "    </tr>\n",
       "    <tr>\n",
       "      <th>4</th>\n",
       "      <td>31-33</td>\n",
       "      <td>Manufacturing</td>\n",
       "    </tr>\n",
       "  </tbody>\n",
       "</table>\n",
       "</div>"
      ],
      "text/plain": [
       "  NAIC CODE                                       INDUSTRY\n",
       "0        11     Agriculture, Forestry, Fishing and Hunting\n",
       "1        21  Mining, Quarrying, and Oil and Gas Extraction\n",
       "2        22                                      Utilities\n",
       "3        23                                   Construction\n",
       "4     31-33                                  Manufacturing"
      ]
     },
     "execution_count": 31,
     "metadata": {},
     "output_type": "execute_result"
    }
   ],
   "source": [
    "url = 'https://en.wikipedia.org/wiki/North_American_Industry_Classification_System'\n",
    "df_NAIC=pd.read_html(url)[2]\n",
    "df_NAIC.rename(columns={'Sector #':'NAIC CODE','Description':'INDUSTRY'},inplace=True)\n",
    "df_NAIC.drop(columns='Note',inplace=True)\n",
    "df_NAIC.head()\n"
   ]
  },
  {
   "cell_type": "code",
   "execution_count": 32,
   "id": "5f1459a0",
   "metadata": {},
   "outputs": [],
   "source": [
    "df['NAIC CODE'] = df['NAIC CODE'].astype(str).str[:2]\n",
    "df=df.merge(df_NAIC,on='NAIC CODE')\n"
   ]
  },
  {
   "cell_type": "code",
   "execution_count": 33,
   "id": "0cffaf66",
   "metadata": {},
   "outputs": [],
   "source": [
    "#Remove rows of the employers with less than 4 application  \n",
    "NAIC_dict = df['NAIC CODE'].value_counts().to_dict()\n",
    "NAIC_list = [k for k,v in NAIC_dict.items() if v<=4]\n",
    "df = df[~df['NAIC CODE'].isin(NAIC_list)]"
   ]
  },
  {
   "cell_type": "code",
   "execution_count": 34,
   "id": "3f7fba6c",
   "metadata": {},
   "outputs": [],
   "source": [
    "df = df.dropna()"
   ]
  },
  {
   "cell_type": "markdown",
   "id": "2828b119",
   "metadata": {},
   "source": [
    "#### Deal with SOC CODE and NAME Data\n",
    "\n",
    "I did the same special characters removal. Then, Retrieve the SOC Code/Name mapping table use groupby method and join it with the dataframe based on SOC Code, so we can replace NAN with corresponding SOC Name according to SOC Code for each row."
   ]
  },
  {
   "cell_type": "code",
   "execution_count": 35,
   "id": "92ab4795",
   "metadata": {},
   "outputs": [
    {
     "name": "stderr",
     "output_type": "stream",
     "text": [
      "/var/folders/zy/jklqy1_53vz5yjy6b32xkdc40000gn/T/ipykernel_91700/1825812378.py:1: FutureWarning: The default value of regex will change from True to False in a future version.\n",
      "  df['SOC CODE'] = df['SOC CODE'].str.replace(r'[-.,]', '').str.slice(stop=6)\n",
      "/var/folders/zy/jklqy1_53vz5yjy6b32xkdc40000gn/T/ipykernel_91700/1825812378.py:2: FutureWarning: The default value of regex will change from True to False in a future version.\n",
      "  df['SOC NAME'] = df['SOC NAME'].str.replace(r'[-.]', '')\n"
     ]
    }
   ],
   "source": [
    "df['SOC CODE'] = df['SOC CODE'].str.replace(r'[-.,]', '').str.slice(stop=6)\n",
    "df['SOC NAME'] = df['SOC NAME'].str.replace(r'[-.]', '')\n",
    "df.loc[df['SOC NAME'] == df['SOC CODE'], 'SOC NAME'] = 'Unknown'\n",
    "df.loc[df['SOC NAME'].str.isdigit(), 'SOC NAME'] = 'Unknown'\n",
    "df = df[df['SOC CODE'].str.isdigit() & (df['SOC CODE'].str.len() == 6)]"
   ]
  },
  {
   "cell_type": "code",
   "execution_count": 36,
   "id": "7a25de88",
   "metadata": {},
   "outputs": [
    {
     "name": "stderr",
     "output_type": "stream",
     "text": [
      "/var/folders/zy/jklqy1_53vz5yjy6b32xkdc40000gn/T/ipykernel_91700/1599612238.py:7: FutureWarning: The default value of regex will change from True to False in a future version.\n",
      "  df['SOC NAME'] = df['SOC NAME'].str.replace('\\d+', '')\n"
     ]
    }
   ],
   "source": [
    "mapping_table = df[['SOC CODE', 'SOC NAME']].groupby(['SOC NAME']).first().reset_index()\n",
    "mapping_table.sort_values(by='SOC NAME')\n",
    "mapping_table = mapping_table.drop_duplicates(subset=['SOC CODE'])\n",
    "\n",
    "df.drop(columns=['SOC NAME'], inplace=True)\n",
    "df=df.merge(mapping_table,on='SOC CODE')\n",
    "df['SOC NAME'] = df['SOC NAME'].str.replace('\\d+', '')"
   ]
  },
  {
   "cell_type": "markdown",
   "id": "6ca8d799",
   "metadata": {},
   "source": [
    "#### Convert  Data Type to Date"
   ]
  },
  {
   "cell_type": "code",
   "execution_count": 37,
   "id": "6aefc93e",
   "metadata": {},
   "outputs": [],
   "source": [
    "df['EMPLOYMENT END DATE']=pd.to_datetime(df['EMPLOYMENT END DATE'], errors='coerce')\n",
    "df['EMPLOYMENT START DATE']=pd.to_datetime(df['EMPLOYMENT START DATE'], errors='coerce')\n",
    "df['DECISION DATE']=pd.to_datetime(df['DECISION DATE'], errors='coerce')\n",
    "df['CASE SUBMITTED']=pd.to_datetime(df['CASE SUBMITTED'], errors='coerce')"
   ]
  },
  {
   "cell_type": "markdown",
   "id": "6e79f0da",
   "metadata": {},
   "source": [
    "#### Convert Visa Status to Denied: 0 and Certified: 1\n",
    "\n",
    "The case status were reduced to either \"1: certified\" or \"2. denied\". Rejection and invalid cases were merged with denied, and certified withdrawn was merged with certified. Withdrawn data was first converted to to -1, then later removed as it did not affect the USCIS decision. \n",
    "\n",
    "Create a new column called FINAL DECISION based on a mapping table of visa status to final decision.(1: Certified 0: Denied -1:Withdrawn without result)"
   ]
  },
  {
   "cell_type": "code",
   "execution_count": 38,
   "id": "af5b7cdd",
   "metadata": {},
   "outputs": [],
   "source": [
    "\n",
    "decision_map = {\n",
    "    'CERTIFIED': 1,\n",
    "    'CERTIFIED-WITHDRAWN': 1,\n",
    "    'DENIED': 0,\n",
    "    'REJECTED': 0,\n",
    "    'INVALIDATED': 0,\n",
    "    'WITHDRAWN':-1,\n",
    "}\n",
    "\n",
    "\n",
    "df['FINAL DECISION'] = df['CASE STATUS'].map(decision_map)"
   ]
  },
  {
   "cell_type": "markdown",
   "id": "f463d7aa",
   "metadata": {},
   "source": [
    "### Deal with employer data"
   ]
  },
  {
   "cell_type": "markdown",
   "id": "4f62ee9e",
   "metadata": {},
   "source": [
    "I converted all the characters in the 'EMPLOYER NAME' column to lowercase. I also defined a dictionary named 'dic' that contains regular expressions as keys and their corresponding replacement values. Then, I replaced all the patterns specified in the 'dic' dictionary with their corresponding values. "
   ]
  },
  {
   "cell_type": "code",
   "execution_count": 39,
   "id": "e7d3bd13",
   "metadata": {},
   "outputs": [],
   "source": [
    "df['EMPLOYER NAME'] = df['EMPLOYER NAME'].str.lower()\n",
    "dic = { 'EMPLOYER NAME': { r\"[.\\-,);\\\"'(+/]|(&QUOT;)\":'', r'ltd':'limited',r'corp$':'corporation'}}\n",
    "df.replace(dic, regex=True, inplace=True)"
   ]
  },
  {
   "cell_type": "code",
   "execution_count": 40,
   "id": "da2448ba",
   "metadata": {},
   "outputs": [],
   "source": [
    "#Remove rows of the employers with less than 4 application  \n",
    "Emloyer_dict = df['EMPLOYER NAME'].value_counts().to_dict()\n",
    "Emloyer_list = [k for k,v in Emloyer_dict.items() if v<=4]\n",
    "model_df = df[~df['EMPLOYER NAME'].isin(Emloyer_list)]"
   ]
  },
  {
   "cell_type": "code",
   "execution_count": 41,
   "id": "6cf93a72",
   "metadata": {},
   "outputs": [],
   "source": [
    "df.to_csv('data.csv')"
   ]
  },
  {
   "cell_type": "markdown",
   "id": "14c4cd97",
   "metadata": {},
   "source": [
    "import pandas as pd\n",
    "import urllib.request\n",
    "import io\n",
    "from collections import defaultdict\n",
    "import numpy as np\n",
    "import scipy.stats as stats\n",
    "import statsmodels.api as sm\n",
    "import matplotlib.pyplot as plt\n",
    "import seaborn as sns\n",
    "%matplotlib inline \n",
    "new_df=pd.read_csv('data.csv')\n",
    "new_df['EMPLOYMENT END DATE']=pd.to_datetime(new_df['EMPLOYMENT END DATE'], errors='coerce')\n",
    "new_df['EMPLOYMENT START DATE']=pd.to_datetime(new_df['EMPLOYMENT START DATE'], errors='coerce')\n",
    "new_df['DECISION DATE']=pd.to_datetime(new_df['DECISION DATE'], errors='coerce')\n",
    "new_df['CASE SUBMITTED']=pd.to_datetime(new_df['CASE SUBMITTED'], errors='coerce')\n",
    "\n",
    "new_df=new_df.drop(columns=['Unnamed: 0'])\n",
    "new_df=new_df[new_df['FINAL DECISION']!= -1]"
   ]
  },
  {
   "cell_type": "markdown",
   "id": "b5928534",
   "metadata": {},
   "source": [
    "#  Perform data analysis to identify trends and insights"
   ]
  },
  {
   "cell_type": "markdown",
   "id": "9db667cf",
   "metadata": {},
   "source": [
    "#### Petition Statuses"
   ]
  },
  {
   "cell_type": "markdown",
   "id": "58e3f72b",
   "metadata": {},
   "source": [
    "The pie chart displays the distribution of visa petition statuses, indicating that the majority of the petitions have been certified, while a minority of them have been denied."
   ]
  },
  {
   "cell_type": "code",
   "execution_count": 42,
   "id": "a17e015f",
   "metadata": {},
   "outputs": [],
   "source": [
    "new_df=df.copy()\n",
    "new_df=new_df[new_df['FINAL DECISION']!= -1]"
   ]
  },
  {
   "cell_type": "code",
   "execution_count": 43,
   "id": "e0530b65",
   "metadata": {},
   "outputs": [
    {
     "data": {
      "image/png": "[encoded data removed]",
      "text/plain": [
       "<Figure size 1000x500 with 2 Axes>"
      ]
     },
     "metadata": {},
     "output_type": "display_data"
    }
   ],
   "source": [
    "fig, axs = plt.subplots(1, 2, figsize=(10, 5))\n",
    "\n",
    "new_df['CASE STATUS'].value_counts().plot(kind='pie', ax=axs[0], title='Status of Visa Petition Case')\n",
    "new_df['FINAL DECISION'].value_counts().plot(kind='pie', ax=axs[1], title='Final Decision of Visa Petition Case')\n",
    "\n",
    "plt.show()"
   ]
  },
  {
   "cell_type": "markdown",
   "id": "addb4a2f",
   "metadata": {},
   "source": [
    "#### Petition Statuses and VISA types"
   ]
  },
  {
   "cell_type": "markdown",
   "id": "86c55db8",
   "metadata": {},
   "source": [
    "I analysed the relationship between different visa classes and their final visa status. \n",
    "\n",
    "From the table, the H-1B visa class has a total of 1,410,777 cases, out of which 21,766 were denied and 1,390,011 were certified. \n",
    "\n",
    "The pie chart suggests that different visa classes have varying success rates, with the H-1B visa class having the highest success rate among the listed classes, while the E-3 Australian and H-1B1 Chile visa classes having relatively higher denial rates."
   ]
  },
  {
   "cell_type": "code",
   "execution_count": 44,
   "id": "977c7256",
   "metadata": {},
   "outputs": [
    {
     "name": "stderr",
     "output_type": "stream",
     "text": [
      "/var/folders/zy/jklqy1_53vz5yjy6b32xkdc40000gn/T/ipykernel_91700/1562926297.py:2: SettingWithCopyWarning: \n",
      "A value is trying to be set on a copy of a slice from a DataFrame.\n",
      "Try using .loc[row_indexer,col_indexer] = value instead\n",
      "\n",
      "See the caveats in the documentation: https://pandas.pydata.org/pandas-docs/stable/user_guide/indexing.html#returning-a-view-versus-a-copy\n",
      "  visa_class[\"id\"] = visa_class.index\n"
     ]
    },
    {
     "data": {
      "text/html": [
       "<div>\n",
       "<style scoped>\n",
       "    .dataframe tbody tr th:only-of-type {\n",
       "        vertical-align: middle;\n",
       "    }\n",
       "\n",
       "    .dataframe tbody tr th {\n",
       "        vertical-align: top;\n",
       "    }\n",
       "\n",
       "    .dataframe thead th {\n",
       "        text-align: right;\n",
       "    }\n",
       "</style>\n",
       "<table border=\"1\" class=\"dataframe\">\n",
       "  <thead>\n",
       "    <tr style=\"text-align: right;\">\n",
       "      <th>FINAL DECISION</th>\n",
       "      <th>0</th>\n",
       "      <th>1</th>\n",
       "    </tr>\n",
       "    <tr>\n",
       "      <th>VISA CLASS</th>\n",
       "      <th></th>\n",
       "      <th></th>\n",
       "    </tr>\n",
       "  </thead>\n",
       "  <tbody>\n",
       "    <tr>\n",
       "      <th>E-3 Australian</th>\n",
       "      <td>2245</td>\n",
       "      <td>21810</td>\n",
       "    </tr>\n",
       "    <tr>\n",
       "      <th>H-1B</th>\n",
       "      <td>21766</td>\n",
       "      <td>1390011</td>\n",
       "    </tr>\n",
       "    <tr>\n",
       "      <th>H-1B1 Chile</th>\n",
       "      <td>136</td>\n",
       "      <td>1292</td>\n",
       "    </tr>\n",
       "    <tr>\n",
       "      <th>H-1B1 Singapore</th>\n",
       "      <td>105</td>\n",
       "      <td>1970</td>\n",
       "    </tr>\n",
       "  </tbody>\n",
       "</table>\n",
       "</div>"
      ],
      "text/plain": [
       "FINAL DECISION       0        1\n",
       "VISA CLASS                     \n",
       "E-3 Australian    2245    21810\n",
       "H-1B             21766  1390011\n",
       "H-1B1 Chile        136     1292\n",
       "H-1B1 Singapore    105     1970"
      ]
     },
     "execution_count": 44,
     "metadata": {},
     "output_type": "execute_result"
    }
   ],
   "source": [
    "visa_class=new_df[['VISA CLASS', 'FINAL DECISION']]\n",
    "visa_class[\"id\"] = visa_class.index\n",
    "visa_class_counts= visa_class.groupby(['VISA CLASS','FINAL DECISION'])[\"id\"].count().reset_index(name=\"COUNT\")\n",
    "VisaClass=visa_class_counts.pivot(index='VISA CLASS', columns='FINAL DECISION', values='COUNT')\n",
    "\n",
    "VisaClass"
   ]
  },
  {
   "cell_type": "code",
   "execution_count": 45,
   "id": "06d5631e",
   "metadata": {},
   "outputs": [
    {
     "data": {
      "image/png": "[encoded data removed]",
      "text/plain": [
       "<Figure size 500x500 with 4 Axes>"
      ]
     },
     "metadata": {},
     "output_type": "display_data"
    }
   ],
   "source": [
    "colors_list = ['pink','yellowgreen']\n",
    "fig, axs = plt.subplots(2, 2, figsize=(5, 5))\n",
    "for i, visa in enumerate(VisaClass.index):\n",
    "    row = VisaClass.loc[visa]\n",
    "    proportions = [row[0], row[1]]\n",
    "    labels = ['Fail', 'Success']\n",
    "    ax = axs[i//2, i%2]\n",
    "\n",
    "    # Create the pie chart\n",
    "    ax.pie(proportions,\n",
    "           labels=labels,\n",
    "           colors=colors_list,\n",
    "           startangle=90,\n",
    "           autopct='%.1f%%',\n",
    "           pctdistance=0.7,\n",
    "           textprops={'fontsize': 12},\n",
    "           wedgeprops={'linewidth': 1, 'edgecolor': 'white'})\n",
    "    ax.set_title(visa)\n",
    "\n",
    "    # Set the aspect ratio to make the pie chart look like a circle\n",
    "    ax.axis('equal')\n",
    "\n",
    "# Show the chart\n",
    "plt.show()"
   ]
  },
  {
   "cell_type": "markdown",
   "id": "bce6662c",
   "metadata": {},
   "source": [
    "### Which employers file the most petitions each year? "
   ]
  },
  {
   "cell_type": "markdown",
   "id": "28666bef",
   "metadata": {},
   "source": [
    "The table shows the number of visa petitions filed each year by different employers. \n",
    "\n",
    "Based on the table, Infosys Limited filed the most petitions each year, followed by Tata Consultancy Services Limited and Wipro Limited. Deloitte Consulting LLP and Accenture LLP also filed a significant number of petitions each year, but their numbers were lower than the top three employers."
   ]
  },
  {
   "cell_type": "code",
   "execution_count": 46,
   "id": "f44af602",
   "metadata": {},
   "outputs": [
    {
     "name": "stderr",
     "output_type": "stream",
     "text": [
      "/var/folders/zy/jklqy1_53vz5yjy6b32xkdc40000gn/T/ipykernel_91700/2673446088.py:2: SettingWithCopyWarning: \n",
      "A value is trying to be set on a copy of a slice from a DataFrame.\n",
      "Try using .loc[row_indexer,col_indexer] = value instead\n",
      "\n",
      "See the caveats in the documentation: https://pandas.pydata.org/pandas-docs/stable/user_guide/indexing.html#returning-a-view-versus-a-copy\n",
      "  EMPLOYER[\"id\"] = EMPLOYER.index\n"
     ]
    }
   ],
   "source": [
    "EMPLOYER=new_df[['EMPLOYER NAME', 'YEAR']]\n",
    "EMPLOYER[\"id\"] = EMPLOYER.index\n",
    "EMPLOYER_Count= EMPLOYER.groupby(['YEAR','EMPLOYER NAME'])[\"id\"].count().reset_index(name=\"COUNT\")\n",
    "TopCompany=EMPLOYER_Count.pivot(index='EMPLOYER NAME', columns='YEAR', values='COUNT')\n",
    "TopCompany=TopCompany.sort_values(by=[2014,2015,2016],ascending=False)"
   ]
  },
  {
   "cell_type": "code",
   "execution_count": 47,
   "id": "be4caea9",
   "metadata": {},
   "outputs": [
    {
     "data": {
      "text/html": [
       "<div>\n",
       "<style scoped>\n",
       "    .dataframe tbody tr th:only-of-type {\n",
       "        vertical-align: middle;\n",
       "    }\n",
       "\n",
       "    .dataframe tbody tr th {\n",
       "        vertical-align: top;\n",
       "    }\n",
       "\n",
       "    .dataframe thead th {\n",
       "        text-align: right;\n",
       "    }\n",
       "</style>\n",
       "<table border=\"1\" class=\"dataframe\">\n",
       "  <thead>\n",
       "    <tr style=\"text-align: right;\">\n",
       "      <th>YEAR</th>\n",
       "      <th>2014</th>\n",
       "      <th>2015</th>\n",
       "      <th>2016</th>\n",
       "    </tr>\n",
       "    <tr>\n",
       "      <th>EMPLOYER NAME</th>\n",
       "      <th></th>\n",
       "      <th></th>\n",
       "      <th></th>\n",
       "    </tr>\n",
       "  </thead>\n",
       "  <tbody>\n",
       "    <tr>\n",
       "      <th>infosys limited</th>\n",
       "      <td>23759.0</td>\n",
       "      <td>33226.0</td>\n",
       "      <td>25327.0</td>\n",
       "    </tr>\n",
       "    <tr>\n",
       "      <th>tata consultancy services limited</th>\n",
       "      <td>14013.0</td>\n",
       "      <td>15170.0</td>\n",
       "      <td>13104.0</td>\n",
       "    </tr>\n",
       "    <tr>\n",
       "      <th>wipro limited</th>\n",
       "      <td>8317.0</td>\n",
       "      <td>12047.0</td>\n",
       "      <td>10462.0</td>\n",
       "    </tr>\n",
       "    <tr>\n",
       "      <th>deloitte consulting llp</th>\n",
       "      <td>7014.0</td>\n",
       "      <td>36.0</td>\n",
       "      <td>7596.0</td>\n",
       "    </tr>\n",
       "    <tr>\n",
       "      <th>accenture llp</th>\n",
       "      <td>5496.0</td>\n",
       "      <td>9550.0</td>\n",
       "      <td>9440.0</td>\n",
       "    </tr>\n",
       "  </tbody>\n",
       "</table>\n",
       "</div>"
      ],
      "text/plain": [
       "YEAR                                  2014     2015     2016\n",
       "EMPLOYER NAME                                               \n",
       "infosys limited                    23759.0  33226.0  25327.0\n",
       "tata consultancy services limited  14013.0  15170.0  13104.0\n",
       "wipro limited                       8317.0  12047.0  10462.0\n",
       "deloitte consulting llp             7014.0     36.0   7596.0\n",
       "accenture llp                       5496.0   9550.0   9440.0"
      ]
     },
     "execution_count": 47,
     "metadata": {},
     "output_type": "execute_result"
    }
   ],
   "source": [
    "TopCompany.head()"
   ]
  },
  {
   "cell_type": "code",
   "execution_count": 48,
   "id": "c239dd9e",
   "metadata": {},
   "outputs": [
    {
     "data": {
      "image/png": "[encoded data removed]",
      "text/plain": [
       "<Figure size 1200x600 with 1 Axes>"
      ]
     },
     "metadata": {},
     "output_type": "display_data"
    }
   ],
   "source": [
    "top10=TopCompany.head()\n",
    "top10=top10.transpose()\n",
    "top10.plot(kind='bar',figsize=(12, 6)) \n",
    "plt.title('Top 5 employers file the petitions each year(2014 -2015)')\n",
    "plt.ylabel('Number of submissions')\n",
    "plt.xlabel('Years')\n",
    "plt.show()"
   ]
  },
  {
   "cell_type": "markdown",
   "id": "22cc6400",
   "metadata": {},
   "source": [
    "Analyzing the trend, we see that Infosys Limited filed the most petitions in 2014, but their numbers decreased in 2015 and 2016. Tata Consultancy Services Limited and Wipro Limited also filed fewer petitions in 2016 than they did in 2014. On the other hand, Deloitte Consulting LLP and Accenture LLP filed more petitions in 2015 than in 2014, but their numbers decreased in 2016. Overall, it seems that the number of petitions filed by these employers has been somewhat volatile over the years, with no clear trend in any particular direction."
   ]
  },
  {
   "cell_type": "markdown",
   "id": "4a9e9798",
   "metadata": {},
   "source": [
    "### Relationship between Petitions Status with Industry and Occupation."
   ]
  },
  {
   "cell_type": "markdown",
   "id": "06ebad88",
   "metadata": {},
   "source": [
    "Based on the table, the top industry for visa petitions is Professional, Scientific, and Technical Services, with over a million visa petitions certified. This is followed by Educational Services, Information, Finance and Insurance, and Health Care and Social Assistance.\n",
    "\n",
    "The top occupation for visa petitions is Computer Systems Analysts, with over 288,000 visa petitions certified, followed by Computer Developers, Applications, Computer Programmers, Software Quality Assurance Engineers and Testers, and Management Analysts. The top job title for visa petitions is Programmer Analyst, with over 142,000 visa petitions certified, followed by Software Engineer, Computer Programmer, Systems Analyst, and Software Developer.\n",
    "\n",
    "The top city for visa petitions is New York, with over 91,000 visa petitions certified, followed by Houston, San Francisco, Atlanta, and Chicago.\n",
    "\n",
    "#### Analyzing the trend:\n",
    "\n",
    "The number of visa petitions certified in the Professional, Scientific, and Technical Services industry has been consistently high over the years, as has the number of visa petitions certified for Computer Systems Analysts, Computer Developers, Applications, and Computer Programmers. \n",
    "\n",
    "The number of visa petitions certified for Programmer Analysts has been consistently high over the years as well."
   ]
  },
  {
   "cell_type": "code",
   "execution_count": 49,
   "id": "e8911689",
   "metadata": {},
   "outputs": [
    {
     "data": {
      "image/png": "[encoded data removed]",
      "text/plain": [
       "<Figure size 1000x500 with 4 Axes>"
      ]
     },
     "metadata": {},
     "output_type": "display_data"
    }
   ],
   "source": [
    "plt.figure(figsize=(10,5))\n",
    "plt.subplot(1, 4, 1)\n",
    "new_df['INDUSTRY'].value_counts().head(5).plot(kind='bar',title='Top 5 INDUSTRY')\n",
    "plt.subplot(1, 4, 2)\n",
    "new_df['JOB TITLE'].value_counts().head(5).plot(kind='bar',title='Top 5 Job Title')\n",
    "plt.subplot(1, 4, 3)\n",
    "new_df['SOC NAME'].value_counts().head(5).plot(kind='bar',title='Top 5 Occupation')\n",
    "plt.subplot(1, 4, 4)\n",
    "new_df['WORKSITE CITY'].value_counts().head(5).plot(kind='bar',title='Top 5 worksite')\n",
    "plt.tight_layout()\n",
    "plt.show()"
   ]
  },
  {
   "cell_type": "markdown",
   "id": "6040054f",
   "metadata": {},
   "source": [
    "###  INDUSTRY"
   ]
  },
  {
   "cell_type": "code",
   "execution_count": 50,
   "id": "4e2ff8a9",
   "metadata": {},
   "outputs": [
    {
     "name": "stderr",
     "output_type": "stream",
     "text": [
      "/var/folders/zy/jklqy1_53vz5yjy6b32xkdc40000gn/T/ipykernel_91700/4028434472.py:2: SettingWithCopyWarning: \n",
      "A value is trying to be set on a copy of a slice from a DataFrame.\n",
      "Try using .loc[row_indexer,col_indexer] = value instead\n",
      "\n",
      "See the caveats in the documentation: https://pandas.pydata.org/pandas-docs/stable/user_guide/indexing.html#returning-a-view-versus-a-copy\n",
      "  Industry[\"id\"] = Industry.index\n"
     ]
    }
   ],
   "source": [
    "Industry=new_df[['INDUSTRY', 'FINAL DECISION']]\n",
    "Industry[\"id\"] = Industry.index\n",
    "Industry_Count= Industry.groupby(['INDUSTRY','FINAL DECISION'])[\"id\"].count().reset_index(name=\"COUNT\")\n",
    "TopIndustry=Industry_Count.pivot(index='INDUSTRY', columns='FINAL DECISION', values='COUNT')"
   ]
  },
  {
   "cell_type": "code",
   "execution_count": 51,
   "id": "5d5c332e",
   "metadata": {},
   "outputs": [
    {
     "data": {
      "text/html": [
       "<div>\n",
       "<style scoped>\n",
       "    .dataframe tbody tr th:only-of-type {\n",
       "        vertical-align: middle;\n",
       "    }\n",
       "\n",
       "    .dataframe tbody tr th {\n",
       "        vertical-align: top;\n",
       "    }\n",
       "\n",
       "    .dataframe thead th {\n",
       "        text-align: right;\n",
       "    }\n",
       "</style>\n",
       "<table border=\"1\" class=\"dataframe\">\n",
       "  <thead>\n",
       "    <tr style=\"text-align: right;\">\n",
       "      <th>FINAL DECISION</th>\n",
       "      <th>0</th>\n",
       "      <th>1</th>\n",
       "    </tr>\n",
       "    <tr>\n",
       "      <th>INDUSTRY</th>\n",
       "      <th></th>\n",
       "      <th></th>\n",
       "    </tr>\n",
       "  </thead>\n",
       "  <tbody>\n",
       "    <tr>\n",
       "      <th>Professional, Scientific, and Technical Services</th>\n",
       "      <td>13606</td>\n",
       "      <td>1075307</td>\n",
       "    </tr>\n",
       "    <tr>\n",
       "      <th>Educational Services</th>\n",
       "      <td>2491</td>\n",
       "      <td>93283</td>\n",
       "    </tr>\n",
       "    <tr>\n",
       "      <th>Information</th>\n",
       "      <td>1535</td>\n",
       "      <td>69331</td>\n",
       "    </tr>\n",
       "    <tr>\n",
       "      <th>Finance and Insurance</th>\n",
       "      <td>1173</td>\n",
       "      <td>63765</td>\n",
       "    </tr>\n",
       "    <tr>\n",
       "      <th>Health Care and Social Assistance</th>\n",
       "      <td>2429</td>\n",
       "      <td>54959</td>\n",
       "    </tr>\n",
       "  </tbody>\n",
       "</table>\n",
       "</div>"
      ],
      "text/plain": [
       "FINAL DECISION                                        0        1\n",
       "INDUSTRY                                                        \n",
       "Professional, Scientific, and Technical Services  13606  1075307\n",
       "Educational Services                               2491    93283\n",
       "Information                                        1535    69331\n",
       "Finance and Insurance                              1173    63765\n",
       "Health Care and Social Assistance                  2429    54959"
      ]
     },
     "execution_count": 51,
     "metadata": {},
     "output_type": "execute_result"
    }
   ],
   "source": [
    "TopIndustry=TopIndustry.sort_values(by=[1],ascending=False)\n",
    "TopIndustry.head()"
   ]
  },
  {
   "cell_type": "markdown",
   "id": "c851c6a1",
   "metadata": {},
   "source": [
    "## Occupation"
   ]
  },
  {
   "cell_type": "code",
   "execution_count": 52,
   "id": "bfbfc231",
   "metadata": {},
   "outputs": [
    {
     "name": "stderr",
     "output_type": "stream",
     "text": [
      "/var/folders/zy/jklqy1_53vz5yjy6b32xkdc40000gn/T/ipykernel_91700/4111478406.py:2: SettingWithCopyWarning: \n",
      "A value is trying to be set on a copy of a slice from a DataFrame.\n",
      "Try using .loc[row_indexer,col_indexer] = value instead\n",
      "\n",
      "See the caveats in the documentation: https://pandas.pydata.org/pandas-docs/stable/user_guide/indexing.html#returning-a-view-versus-a-copy\n",
      "  SOC[\"id\"] = SOC.index\n",
      "/var/folders/zy/jklqy1_53vz5yjy6b32xkdc40000gn/T/ipykernel_91700/4111478406.py:5: SettingWithCopyWarning: \n",
      "A value is trying to be set on a copy of a slice from a DataFrame.\n",
      "Try using .loc[row_indexer,col_indexer] = value instead\n",
      "\n",
      "See the caveats in the documentation: https://pandas.pydata.org/pandas-docs/stable/user_guide/indexing.html#returning-a-view-versus-a-copy\n",
      "  SOC_count[\"id\"] = SOC_count.index\n"
     ]
    }
   ],
   "source": [
    "SOC=new_df[['SOC CODE','SOC NAME', 'JOB TITLE','FINAL DECISION']]\n",
    "SOC[\"id\"] = SOC.index\n",
    "\n",
    "SOC_count=SOC[['SOC NAME', 'FINAL DECISION']]\n",
    "SOC_count[\"id\"] = SOC_count.index\n",
    "SOC_count= SOC_count.groupby(['SOC NAME','FINAL DECISION'])[\"id\"].count().reset_index(name=\"COUNT\")\n",
    "TopOccupation=SOC_count.pivot(index='SOC NAME', columns='FINAL DECISION', values='COUNT')\n",
    "TopOccupation=TopOccupation.sort_values(by=[1],ascending=False)\n"
   ]
  },
  {
   "cell_type": "code",
   "execution_count": 53,
   "id": "9500a302",
   "metadata": {},
   "outputs": [
    {
     "data": {
      "text/html": [
       "<div>\n",
       "<style scoped>\n",
       "    .dataframe tbody tr th:only-of-type {\n",
       "        vertical-align: middle;\n",
       "    }\n",
       "\n",
       "    .dataframe tbody tr th {\n",
       "        vertical-align: top;\n",
       "    }\n",
       "\n",
       "    .dataframe thead th {\n",
       "        text-align: right;\n",
       "    }\n",
       "</style>\n",
       "<table border=\"1\" class=\"dataframe\">\n",
       "  <thead>\n",
       "    <tr style=\"text-align: right;\">\n",
       "      <th>FINAL DECISION</th>\n",
       "      <th>0</th>\n",
       "      <th>1</th>\n",
       "    </tr>\n",
       "    <tr>\n",
       "      <th>SOC NAME</th>\n",
       "      <th></th>\n",
       "      <th></th>\n",
       "    </tr>\n",
       "  </thead>\n",
       "  <tbody>\n",
       "    <tr>\n",
       "      <th>COMPUER SYSTEMS ANALYSTS</th>\n",
       "      <td>2509.0</td>\n",
       "      <td>288288.0</td>\n",
       "    </tr>\n",
       "    <tr>\n",
       "      <th>COMPUTER DEVELOPERS, APPLICATIONS</th>\n",
       "      <td>2814.0</td>\n",
       "      <td>242367.0</td>\n",
       "    </tr>\n",
       "    <tr>\n",
       "      <th>COMPTUER PROGRAMMERS</th>\n",
       "      <td>2140.0</td>\n",
       "      <td>220076.0</td>\n",
       "    </tr>\n",
       "    <tr>\n",
       "      <th>SW QUALITY ASSURANCE ENGNRS &amp; TESTERS</th>\n",
       "      <td>1123.0</td>\n",
       "      <td>139138.0</td>\n",
       "    </tr>\n",
       "    <tr>\n",
       "      <th>MANAGEMENT ANALYST</th>\n",
       "      <td>480.0</td>\n",
       "      <td>33431.0</td>\n",
       "    </tr>\n",
       "  </tbody>\n",
       "</table>\n",
       "</div>"
      ],
      "text/plain": [
       "FINAL DECISION                               0         1\n",
       "SOC NAME                                                \n",
       "COMPUER SYSTEMS ANALYSTS                2509.0  288288.0\n",
       "COMPUTER DEVELOPERS, APPLICATIONS       2814.0  242367.0\n",
       "COMPTUER PROGRAMMERS                    2140.0  220076.0\n",
       " SW QUALITY ASSURANCE ENGNRS & TESTERS  1123.0  139138.0\n",
       "MANAGEMENT ANALYST                       480.0   33431.0"
      ]
     },
     "execution_count": 53,
     "metadata": {},
     "output_type": "execute_result"
    }
   ],
   "source": [
    "#TopOccupation=TopOccupation.merge(mapping_table,on='SOC NAME')\n",
    "Top5Occupation=TopOccupation.head()\n",
    "Top5Occupation"
   ]
  },
  {
   "cell_type": "code",
   "execution_count": 54,
   "id": "dec1bf28",
   "metadata": {},
   "outputs": [
    {
     "data": {
      "text/plain": [
       "PROGRAMMER ANALYST          142416\n",
       "SOFTWARE ENGINEER            65790\n",
       "COMPUTER PROGRAMMER          36830\n",
       "SYSTEMS ANALYST              32852\n",
       "SOFTWARE DEVELOPER           28171\n",
       "BUSINESS ANALYST             22560\n",
       "COMPUTER SYSTEMS ANALYST     19427\n",
       "TECHNOLOGY LEAD - US         18701\n",
       "TECHNOLOGY ANALYST - US      16915\n",
       "ASSISTANT PROFESSOR          13046\n",
       "Name: JOB TITLE, dtype: int64"
      ]
     },
     "execution_count": 54,
     "metadata": {},
     "output_type": "execute_result"
    }
   ],
   "source": [
    "new_df['JOB TITLE'].value_counts().head(10)"
   ]
  },
  {
   "cell_type": "markdown",
   "id": "606045bc",
   "metadata": {},
   "source": [
    "## Features correlated with petition success"
   ]
  },
  {
   "cell_type": "markdown",
   "id": "c44b8379",
   "metadata": {},
   "source": [
    "#### Add a column of employment duration with unit of days to improve the analyse"
   ]
  },
  {
   "cell_type": "code",
   "execution_count": 55,
   "id": "df6c0f1e",
   "metadata": {},
   "outputs": [],
   "source": [
    "new_df['DECISION DURATION'] = (new_df['DECISION DATE'] - new_df['CASE SUBMITTED']).dt.days\n",
    "new_df['EMPLOYMENT DURATION'] = (new_df['EMPLOYMENT END DATE'] - new_df['EMPLOYMENT START DATE']).dt.days\n",
    "new_df = new_df.drop(columns=['EMPLOYMENT END DATE','EMPLOYMENT START DATE'])\n",
    "new_df=new_df[new_df['EMPLOYMENT DURATION']>0]"
   ]
  },
  {
   "cell_type": "markdown",
   "id": "c086c355",
   "metadata": {},
   "source": [
    "Calculate the correlation with features and petition success and get the correlation table. \n",
    "\n",
    "The features \"PREVAILING WAGE\" and \"WAGE RATE OF PAY\" have a very weak positive correlation with petition success, indicating that higher wage rates may be slightly associated with higher approval rates, but again, the correlation is not significant.\n",
    "\n",
    "The feature \"TOTAL WORKERS\" and \"EMPLOYMENT DURATION\" have a very weak positive correlation with petition success. in this case, 1. the number of workers listed on a petition may have a slight impact on its approval rate, but this correlation is not significant.2.  the length of time that an individual has been employed does not seem to have any impact on the approval rate of their petition.\n",
    "\n",
    "Overall, based on these correlation values, it does not appear that any of the listed features have a strong impact on petition success."
   ]
  },
  {
   "cell_type": "code",
   "execution_count": 56,
   "id": "2c37fbf3",
   "metadata": {},
   "outputs": [
    {
     "name": "stdout",
     "output_type": "stream",
     "text": [
      "TOTAL WORKERS\n",
      "Optimization terminated successfully.\n",
      "         Current function value: 0.085475\n",
      "         Iterations 8\n",
      "PREVAILING WAGE\n"
     ]
    },
    {
     "name": "stderr",
     "output_type": "stream",
     "text": [
      "/var/folders/zy/jklqy1_53vz5yjy6b32xkdc40000gn/T/ipykernel_91700/87279417.py:9: FutureWarning: The frame.append method is deprecated and will be removed from pandas in a future version. Use pandas.concat instead.\n",
      "  corr_df = corr_df.append({\"feature\": col, \"corr\": model.pvalues[col]}, ignore_index=True)\n"
     ]
    },
    {
     "name": "stdout",
     "output_type": "stream",
     "text": [
      "Optimization terminated successfully.\n",
      "         Current function value: 0.084262\n",
      "         Iterations 11\n",
      "WAGE RATE OF PAY\n"
     ]
    },
    {
     "name": "stderr",
     "output_type": "stream",
     "text": [
      "/var/folders/zy/jklqy1_53vz5yjy6b32xkdc40000gn/T/ipykernel_91700/87279417.py:9: FutureWarning: The frame.append method is deprecated and will be removed from pandas in a future version. Use pandas.concat instead.\n",
      "  corr_df = corr_df.append({\"feature\": col, \"corr\": model.pvalues[col]}, ignore_index=True)\n"
     ]
    },
    {
     "name": "stdout",
     "output_type": "stream",
     "text": [
      "Optimization terminated successfully.\n",
      "         Current function value: 0.084841\n",
      "         Iterations 8\n",
      "EMPLOYMENT DURATION\n"
     ]
    },
    {
     "name": "stderr",
     "output_type": "stream",
     "text": [
      "/var/folders/zy/jklqy1_53vz5yjy6b32xkdc40000gn/T/ipykernel_91700/87279417.py:9: FutureWarning: The frame.append method is deprecated and will be removed from pandas in a future version. Use pandas.concat instead.\n",
      "  corr_df = corr_df.append({\"feature\": col, \"corr\": model.pvalues[col]}, ignore_index=True)\n"
     ]
    },
    {
     "name": "stdout",
     "output_type": "stream",
     "text": [
      "Optimization terminated successfully.\n",
      "         Current function value: 0.084664\n",
      "         Iterations 8\n"
     ]
    },
    {
     "name": "stderr",
     "output_type": "stream",
     "text": [
      "/var/folders/zy/jklqy1_53vz5yjy6b32xkdc40000gn/T/ipykernel_91700/87279417.py:9: FutureWarning: The frame.append method is deprecated and will be removed from pandas in a future version. Use pandas.concat instead.\n",
      "  corr_df = corr_df.append({\"feature\": col, \"corr\": model.pvalues[col]}, ignore_index=True)\n"
     ]
    }
   ],
   "source": [
    "corr_df = pd.DataFrame(columns=[\"feature\", \"corr\"])\n",
    "columns=['TOTAL WORKERS','PREVAILING WAGE', 'WAGE RATE OF PAY','EMPLOYMENT DURATION']\n",
    "for col in columns:\n",
    "    print(col)\n",
    "        \n",
    "    X = sm.add_constant(new_df[col])\n",
    "    y = new_df[\"FINAL DECISION\"]\n",
    "    model = sm.Logit(y,X).fit()\n",
    "    corr_df = corr_df.append({\"feature\": col, \"corr\": model.pvalues[col]}, ignore_index=True)\n",
    "\n",
    "# Sort by correlation value in descending order\n",
    "corr_df = corr_df.sort_values(\"corr\", ascending=False)"
   ]
  },
  {
   "cell_type": "code",
   "execution_count": 57,
   "id": "6c648cae",
   "metadata": {},
   "outputs": [
    {
     "data": {
      "text/html": [
       "<div>\n",
       "<style scoped>\n",
       "    .dataframe tbody tr th:only-of-type {\n",
       "        vertical-align: middle;\n",
       "    }\n",
       "\n",
       "    .dataframe tbody tr th {\n",
       "        vertical-align: top;\n",
       "    }\n",
       "\n",
       "    .dataframe thead th {\n",
       "        text-align: right;\n",
       "    }\n",
       "</style>\n",
       "<table border=\"1\" class=\"dataframe\">\n",
       "  <thead>\n",
       "    <tr style=\"text-align: right;\">\n",
       "      <th></th>\n",
       "      <th>feature</th>\n",
       "      <th>corr</th>\n",
       "    </tr>\n",
       "  </thead>\n",
       "  <tbody>\n",
       "    <tr>\n",
       "      <th>0</th>\n",
       "      <td>TOTAL WORKERS</td>\n",
       "      <td>4.622469e-04</td>\n",
       "    </tr>\n",
       "    <tr>\n",
       "      <th>1</th>\n",
       "      <td>PREVAILING WAGE</td>\n",
       "      <td>1.164391e-11</td>\n",
       "    </tr>\n",
       "    <tr>\n",
       "      <th>2</th>\n",
       "      <td>WAGE RATE OF PAY</td>\n",
       "      <td>0.000000e+00</td>\n",
       "    </tr>\n",
       "    <tr>\n",
       "      <th>3</th>\n",
       "      <td>EMPLOYMENT DURATION</td>\n",
       "      <td>0.000000e+00</td>\n",
       "    </tr>\n",
       "  </tbody>\n",
       "</table>\n",
       "</div>"
      ],
      "text/plain": [
       "               feature          corr\n",
       "0        TOTAL WORKERS  4.622469e-04\n",
       "1      PREVAILING WAGE  1.164391e-11\n",
       "2     WAGE RATE OF PAY  0.000000e+00\n",
       "3  EMPLOYMENT DURATION  0.000000e+00"
      ]
     },
     "execution_count": 57,
     "metadata": {},
     "output_type": "execute_result"
    }
   ],
   "source": [
    "corr_df"
   ]
  },
  {
   "cell_type": "markdown",
   "id": "9d629f6f",
   "metadata": {},
   "source": [
    "## Is the applicant wage correlated with petition success?"
   ]
  },
  {
   "cell_type": "markdown",
   "id": "cb864168",
   "metadata": {},
   "source": [
    "Based on the correlation values in the previous table, it seems that there is no strong correlation between any of the features and petition success. However, there is a very weak positive correlation between petition success and the features \"PREVAILING WAGE\" and \"WAGE RATE OF PAY\". In order to prepare the wage data for analysing and modeling, I took the following steps:\n",
    "\n",
    "1. Removing outliers\n",
    "2. Balancing the dataset\n",
    "3. Normalizing the feature data."
   ]
  },
  {
   "cell_type": "code",
   "execution_count": 58,
   "id": "7d8c8a91",
   "metadata": {},
   "outputs": [
    {
     "name": "stdout",
     "output_type": "stream",
     "text": [
      "PREVAILING WAGE: No of outliers:  73637\n",
      "WAGE RATE OF PAY: No of outliers:  172414\n"
     ]
    }
   ],
   "source": [
    "#detect outlier \n",
    "q1 = new_df[\"PREVAILING WAGE\"].quantile(0.25)\n",
    "q3 = new_df[\"PREVAILING WAGE\"].quantile(0.75)\n",
    "IQR = q3 - q1\n",
    "outliers = ((new_df[\"PREVAILING WAGE\"] < (q1 - 1.5 * IQR)) | (new_df[\"PREVAILING WAGE\"] > (q3 + 1.5 * IQR))).sum()\n",
    "print('PREVAILING WAGE: No of outliers: ', outliers)\n",
    "# drop outlier \n",
    "model_df = new_df[new_df[\"PREVAILING WAGE\"] > (q1 - 1.5 * IQR)]\n",
    "model_df = new_df[new_df[\"PREVAILING WAGE\"] < (q1 + 1.5 * IQR)]\n",
    "#detect outlier \n",
    "q1 = new_df[\"WAGE RATE OF PAY\"].quantile(0.25)\n",
    "q3 = new_df[\"WAGE RATE OF PAY\"].quantile(0.75)\n",
    "IQR = q3 - q1\n",
    "outliers = ((new_df[\"WAGE RATE OF PAY\"] < (q1 - 1.5 * IQR)) | (new_df[\"WAGE RATE OF PAY\"] > (q3 + 1.5 * IQR))).sum()\n",
    "print('WAGE RATE OF PAY: No of outliers: ', outliers)\n",
    "# drop outlier \n",
    "model_df = model_df[model_df[\"WAGE RATE OF PAY\"] > (q1 - 1.5 * IQR)]\n",
    "model_df = model_df[model_df[\"WAGE RATE OF PAY\"] < (q1 + 1.5 * IQR)]"
   ]
  },
  {
   "cell_type": "code",
   "execution_count": 59,
   "id": "e046233b",
   "metadata": {},
   "outputs": [
    {
     "data": {
      "image/png": "[encoded data removed]",
      "text/plain": [
       "<Figure size 800x600 with 4 Axes>"
      ]
     },
     "metadata": {},
     "output_type": "display_data"
    }
   ],
   "source": [
    "fig, axs = plt.subplots(2, 2, figsize=(8,6))\n",
    "\n",
    "sns.boxplot(x=\"FINAL DECISION\", y=\"PREVAILING WAGE\", data=new_df, ax=axs[0,0])\n",
    "axs[0,0].set_title(\"PREVAILING WAGE\")\n",
    "\n",
    "sns.boxplot(x=\"FINAL DECISION\", y=\"PREVAILING WAGE\", data=model_df,ax=axs[0,1])\n",
    "axs[0,1].set_title(\"PREVAILING WAGE without Outlier\")\n",
    "\n",
    "sns.boxplot(x=\"FINAL DECISION\", y=\"WAGE RATE OF PAY\", data=new_df, ax=axs[1,0])\n",
    "axs[1,0].set_title(\"WAGE RATE OF PAY\")\n",
    "\n",
    "sns.boxplot(x=\"FINAL DECISION\", y=\"WAGE RATE OF PAY\", data=model_df,ax=axs[1,1])\n",
    "axs[1,1].set_title(\"WAGE RATE OF PAY without Outlier\")\n",
    "\n",
    "plt.tight_layout()\n",
    "plt.show()"
   ]
  },
  {
   "cell_type": "markdown",
   "id": "edf9457d",
   "metadata": {},
   "source": [
    "#  Clean and preprocess data for modeling\n",
    "4. Develop and train models to predict visa petition outcomes\n",
    "5. Evaluate and compare model performance\n",
    "6. Summarize findings and provide recommendations"
   ]
  },
  {
   "cell_type": "markdown",
   "id": "d3791ff2",
   "metadata": {},
   "source": [
    "### Imbanalnced data\n",
    "From the previous analyse, CASE_STATUS is highly imbalanced which may influence the modeling. "
   ]
  },
  {
   "cell_type": "code",
   "execution_count": 60,
   "id": "dbc9354f",
   "metadata": {},
   "outputs": [
    {
     "data": {
      "text/plain": [
       "1    1072938\n",
       "0      17216\n",
       "Name: FINAL DECISION, dtype: int64"
      ]
     },
     "execution_count": 60,
     "metadata": {},
     "output_type": "execute_result"
    }
   ],
   "source": [
    "model_df['FINAL DECISION'].value_counts()"
   ]
  },
  {
   "cell_type": "markdown",
   "id": "27c71b9f",
   "metadata": {},
   "source": [
    "In this case, balance the data is necessary before modeling. To rebalance visa application data, I decided to use undersampling method, which involves reduce the number of instances in the majority class(visa status = CERTIFICATED in this case). \n",
    "\n",
    "Random undersampling: This method involves randomly selecting a subset of instances from the majority class to match the size of the minority class."
   ]
  },
  {
   "cell_type": "code",
   "execution_count": 61,
   "id": "2311d74f",
   "metadata": {},
   "outputs": [
    {
     "name": "stdout",
     "output_type": "stream",
     "text": [
      "Random under-sampling:\n",
      "1    17216\n",
      "0    17216\n",
      "Name: FINAL DECISION, dtype: int64\n"
     ]
    }
   ],
   "source": [
    "#Down sampling\n",
    "NoCertified, NoDenied = model_df['FINAL DECISION'].value_counts()\n",
    "# Divide by class\n",
    "dfCertified = model_df[model_df['FINAL DECISION']==1]\n",
    "dfDenied = model_df[model_df['FINAL DECISION']==0]\n",
    "\n",
    "seed=7\n",
    "Baldf =dfCertified.sample(NoDenied,random_state=seed)\n",
    "Balanced_df = pd.concat([Baldf, dfDenied], axis=0)\n",
    "\n",
    "print('Random under-sampling:')\n",
    "print(Balanced_df['FINAL DECISION'].value_counts())"
   ]
  },
  {
   "cell_type": "code",
   "execution_count": 62,
   "id": "4167895a",
   "metadata": {},
   "outputs": [],
   "source": [
    "model_columns=['FINAL DECISION','TOTAL WORKERS', 'PREVAILING WAGE', 'WAGE RATE OF PAY', 'EMPLOYMENT DURATION','VISA CLASS','PW WAGE LEVEL','NAIC CODE','SOC CODE','WORKSITE CITY','EMPLOYER NAME']\n",
    "Balanced_df=Balanced_df[model_columns]"
   ]
  },
  {
   "cell_type": "code",
   "execution_count": 63,
   "id": "bf4656fd",
   "metadata": {},
   "outputs": [],
   "source": [
    "DummyCol=[ 'VISA CLASS','PW WAGE LEVEL','NAIC CODE','SOC CODE','WORKSITE CITY','EMPLOYER NAME']\n",
    "Dummydf = pd.get_dummies(Balanced_df[DummyCol])"
   ]
  },
  {
   "cell_type": "code",
   "execution_count": 64,
   "id": "2c82dcac",
   "metadata": {},
   "outputs": [],
   "source": [
    "from sklearn.preprocessing import MinMaxScaler\n",
    "N_columns=['TOTAL WORKERS', 'PREVAILING WAGE', 'WAGE RATE OF PAY', 'EMPLOYMENT DURATION']\n",
    "scaler = MinMaxScaler()\n",
    "Balanced_df[N_columns] = scaler.fit_transform(Balanced_df[N_columns])"
   ]
  },
  {
   "cell_type": "code",
   "execution_count": 65,
   "id": "44cf6259",
   "metadata": {},
   "outputs": [
    {
     "data": {
      "text/html": [
       "<div>\n",
       "<style scoped>\n",
       "    .dataframe tbody tr th:only-of-type {\n",
       "        vertical-align: middle;\n",
       "    }\n",
       "\n",
       "    .dataframe tbody tr th {\n",
       "        vertical-align: top;\n",
       "    }\n",
       "\n",
       "    .dataframe thead th {\n",
       "        text-align: right;\n",
       "    }\n",
       "</style>\n",
       "<table border=\"1\" class=\"dataframe\">\n",
       "  <thead>\n",
       "    <tr style=\"text-align: right;\">\n",
       "      <th></th>\n",
       "      <th>FINAL DECISION</th>\n",
       "      <th>TOTAL WORKERS</th>\n",
       "      <th>PREVAILING WAGE</th>\n",
       "      <th>WAGE RATE OF PAY</th>\n",
       "      <th>EMPLOYMENT DURATION</th>\n",
       "      <th>VISA CLASS_E-3 Australian</th>\n",
       "      <th>VISA CLASS_H-1B</th>\n",
       "      <th>VISA CLASS_H-1B1 Chile</th>\n",
       "      <th>VISA CLASS_H-1B1 Singapore</th>\n",
       "      <th>PW WAGE LEVEL_Level I</th>\n",
       "      <th>...</th>\n",
       "      <th>EMPLOYER NAME_zusys</th>\n",
       "      <th>EMPLOYER NAME_zusys inc</th>\n",
       "      <th>EMPLOYER NAME_zuven technologies inc</th>\n",
       "      <th>EMPLOYER NAME_zwick art llc</th>\n",
       "      <th>EMPLOYER NAME_zylog systems limited</th>\n",
       "      <th>EMPLOYER NAME_zymo research corporation</th>\n",
       "      <th>EMPLOYER NAME_zynga inc</th>\n",
       "      <th>EMPLOYER NAME_zypmedia inc</th>\n",
       "      <th>EMPLOYER NAME_zyto technologies inc</th>\n",
       "      <th>EMPLOYER NAME_zywie inc</th>\n",
       "    </tr>\n",
       "  </thead>\n",
       "  <tbody>\n",
       "    <tr>\n",
       "      <th>1066646</th>\n",
       "      <td>1</td>\n",
       "      <td>0.0</td>\n",
       "      <td>0.670132</td>\n",
       "      <td>0.493779</td>\n",
       "      <td>0.749829</td>\n",
       "      <td>0</td>\n",
       "      <td>1</td>\n",
       "      <td>0</td>\n",
       "      <td>0</td>\n",
       "      <td>0</td>\n",
       "      <td>...</td>\n",
       "      <td>0</td>\n",
       "      <td>0</td>\n",
       "      <td>0</td>\n",
       "      <td>0</td>\n",
       "      <td>0</td>\n",
       "      <td>0</td>\n",
       "      <td>0</td>\n",
       "      <td>0</td>\n",
       "      <td>0</td>\n",
       "      <td>0</td>\n",
       "    </tr>\n",
       "    <tr>\n",
       "      <th>503711</th>\n",
       "      <td>1</td>\n",
       "      <td>0.0</td>\n",
       "      <td>0.855899</td>\n",
       "      <td>0.656827</td>\n",
       "      <td>0.750514</td>\n",
       "      <td>0</td>\n",
       "      <td>1</td>\n",
       "      <td>0</td>\n",
       "      <td>0</td>\n",
       "      <td>0</td>\n",
       "      <td>...</td>\n",
       "      <td>0</td>\n",
       "      <td>0</td>\n",
       "      <td>0</td>\n",
       "      <td>0</td>\n",
       "      <td>0</td>\n",
       "      <td>0</td>\n",
       "      <td>0</td>\n",
       "      <td>0</td>\n",
       "      <td>0</td>\n",
       "      <td>0</td>\n",
       "    </tr>\n",
       "    <tr>\n",
       "      <th>1345841</th>\n",
       "      <td>1</td>\n",
       "      <td>0.0</td>\n",
       "      <td>0.744722</td>\n",
       "      <td>0.960340</td>\n",
       "      <td>0.748458</td>\n",
       "      <td>0</td>\n",
       "      <td>1</td>\n",
       "      <td>0</td>\n",
       "      <td>0</td>\n",
       "      <td>0</td>\n",
       "      <td>...</td>\n",
       "      <td>0</td>\n",
       "      <td>0</td>\n",
       "      <td>0</td>\n",
       "      <td>0</td>\n",
       "      <td>0</td>\n",
       "      <td>0</td>\n",
       "      <td>0</td>\n",
       "      <td>0</td>\n",
       "      <td>0</td>\n",
       "      <td>0</td>\n",
       "    </tr>\n",
       "    <tr>\n",
       "      <th>700672</th>\n",
       "      <td>1</td>\n",
       "      <td>0.0</td>\n",
       "      <td>0.630546</td>\n",
       "      <td>0.459034</td>\n",
       "      <td>0.749829</td>\n",
       "      <td>0</td>\n",
       "      <td>1</td>\n",
       "      <td>0</td>\n",
       "      <td>0</td>\n",
       "      <td>0</td>\n",
       "      <td>...</td>\n",
       "      <td>0</td>\n",
       "      <td>0</td>\n",
       "      <td>0</td>\n",
       "      <td>0</td>\n",
       "      <td>0</td>\n",
       "      <td>0</td>\n",
       "      <td>0</td>\n",
       "      <td>0</td>\n",
       "      <td>0</td>\n",
       "      <td>0</td>\n",
       "    </tr>\n",
       "    <tr>\n",
       "      <th>927624</th>\n",
       "      <td>1</td>\n",
       "      <td>0.0</td>\n",
       "      <td>0.609597</td>\n",
       "      <td>0.578557</td>\n",
       "      <td>0.748458</td>\n",
       "      <td>0</td>\n",
       "      <td>1</td>\n",
       "      <td>0</td>\n",
       "      <td>0</td>\n",
       "      <td>0</td>\n",
       "      <td>...</td>\n",
       "      <td>0</td>\n",
       "      <td>0</td>\n",
       "      <td>0</td>\n",
       "      <td>0</td>\n",
       "      <td>0</td>\n",
       "      <td>0</td>\n",
       "      <td>0</td>\n",
       "      <td>0</td>\n",
       "      <td>0</td>\n",
       "      <td>0</td>\n",
       "    </tr>\n",
       "  </tbody>\n",
       "</table>\n",
       "<p>5 rows × 17457 columns</p>\n",
       "</div>"
      ],
      "text/plain": [
       "         FINAL DECISION  TOTAL WORKERS  PREVAILING WAGE  WAGE RATE OF PAY  \\\n",
       "1066646               1            0.0         0.670132          0.493779   \n",
       "503711                1            0.0         0.855899          0.656827   \n",
       "1345841               1            0.0         0.744722          0.960340   \n",
       "700672                1            0.0         0.630546          0.459034   \n",
       "927624                1            0.0         0.609597          0.578557   \n",
       "\n",
       "         EMPLOYMENT DURATION  VISA CLASS_E-3 Australian  VISA CLASS_H-1B  \\\n",
       "1066646             0.749829                          0                1   \n",
       "503711              0.750514                          0                1   \n",
       "1345841             0.748458                          0                1   \n",
       "700672              0.749829                          0                1   \n",
       "927624              0.748458                          0                1   \n",
       "\n",
       "         VISA CLASS_H-1B1 Chile  VISA CLASS_H-1B1 Singapore  \\\n",
       "1066646                       0                           0   \n",
       "503711                        0                           0   \n",
       "1345841                       0                           0   \n",
       "700672                        0                           0   \n",
       "927624                        0                           0   \n",
       "\n",
       "         PW WAGE LEVEL_Level I  ...  EMPLOYER NAME_zusys  \\\n",
       "1066646                      0  ...                    0   \n",
       "503711                       0  ...                    0   \n",
       "1345841                      0  ...                    0   \n",
       "700672                       0  ...                    0   \n",
       "927624                       0  ...                    0   \n",
       "\n",
       "         EMPLOYER NAME_zusys inc  EMPLOYER NAME_zuven technologies inc  \\\n",
       "1066646                        0                                     0   \n",
       "503711                         0                                     0   \n",
       "1345841                        0                                     0   \n",
       "700672                         0                                     0   \n",
       "927624                         0                                     0   \n",
       "\n",
       "         EMPLOYER NAME_zwick art llc  EMPLOYER NAME_zylog systems limited  \\\n",
       "1066646                            0                                    0   \n",
       "503711                             0                                    0   \n",
       "1345841                            0                                    0   \n",
       "700672                             0                                    0   \n",
       "927624                             0                                    0   \n",
       "\n",
       "         EMPLOYER NAME_zymo research corporation  EMPLOYER NAME_zynga inc  \\\n",
       "1066646                                        0                        0   \n",
       "503711                                         0                        0   \n",
       "1345841                                        0                        0   \n",
       "700672                                         0                        0   \n",
       "927624                                         0                        0   \n",
       "\n",
       "         EMPLOYER NAME_zypmedia inc  EMPLOYER NAME_zyto technologies inc  \\\n",
       "1066646                           0                                    0   \n",
       "503711                            0                                    0   \n",
       "1345841                           0                                    0   \n",
       "700672                            0                                    0   \n",
       "927624                            0                                    0   \n",
       "\n",
       "         EMPLOYER NAME_zywie inc  \n",
       "1066646                        0  \n",
       "503711                         0  \n",
       "1345841                        0  \n",
       "700672                         0  \n",
       "927624                         0  \n",
       "\n",
       "[5 rows x 17457 columns]"
      ]
     },
     "execution_count": 65,
     "metadata": {},
     "output_type": "execute_result"
    }
   ],
   "source": [
    "M_df =pd.concat([Balanced_df,Dummydf],axis=1)\n",
    "M_df =M_df.drop(DummyCol,axis=1)\n",
    "M_df.head()"
   ]
  },
  {
   "cell_type": "code",
   "execution_count": 66,
   "id": "4e5d5cad",
   "metadata": {},
   "outputs": [
    {
     "name": "stdout",
     "output_type": "stream",
     "text": [
      "Optimization terminated successfully.\n",
      "         Current function value: 0.693143\n",
      "         Iterations 5\n",
      "Optimization terminated successfully.\n",
      "         Current function value: 0.680169\n",
      "         Iterations 4\n",
      "Optimization terminated successfully.\n",
      "         Current function value: 0.667485\n",
      "         Iterations 5\n",
      "Optimization terminated successfully.\n",
      "         Current function value: 0.681602\n",
      "         Iterations 5\n"
     ]
    },
    {
     "name": "stderr",
     "output_type": "stream",
     "text": [
      "/var/folders/zy/jklqy1_53vz5yjy6b32xkdc40000gn/T/ipykernel_91700/1460978275.py:9: FutureWarning: The frame.append method is deprecated and will be removed from pandas in a future version. Use pandas.concat instead.\n",
      "  corr_df = corr_df.append({\"feature\": col, \"corr\": model.pvalues[col]}, ignore_index=True)\n",
      "/var/folders/zy/jklqy1_53vz5yjy6b32xkdc40000gn/T/ipykernel_91700/1460978275.py:9: FutureWarning: The frame.append method is deprecated and will be removed from pandas in a future version. Use pandas.concat instead.\n",
      "  corr_df = corr_df.append({\"feature\": col, \"corr\": model.pvalues[col]}, ignore_index=True)\n",
      "/var/folders/zy/jklqy1_53vz5yjy6b32xkdc40000gn/T/ipykernel_91700/1460978275.py:9: FutureWarning: The frame.append method is deprecated and will be removed from pandas in a future version. Use pandas.concat instead.\n",
      "  corr_df = corr_df.append({\"feature\": col, \"corr\": model.pvalues[col]}, ignore_index=True)\n",
      "/var/folders/zy/jklqy1_53vz5yjy6b32xkdc40000gn/T/ipykernel_91700/1460978275.py:9: FutureWarning: The frame.append method is deprecated and will be removed from pandas in a future version. Use pandas.concat instead.\n",
      "  corr_df = corr_df.append({\"feature\": col, \"corr\": model.pvalues[col]}, ignore_index=True)\n"
     ]
    }
   ],
   "source": [
    "corr_df = pd.DataFrame(columns=[\"feature\", \"corr\"])\n",
    "N_columns=['TOTAL WORKERS', 'PREVAILING WAGE', 'WAGE RATE OF PAY', 'EMPLOYMENT DURATION']\n",
    "for col in N_columns:\n",
    "    if col=='FINAL DECISION':\n",
    "        continue\n",
    "    X = sm.add_constant(M_df[col])\n",
    "    y = M_df[\"FINAL DECISION\"]\n",
    "    model = sm.Logit(y,X).fit()\n",
    "    corr_df = corr_df.append({\"feature\": col, \"corr\": model.pvalues[col]}, ignore_index=True)\n",
    "\n",
    "# Sort by correlation value in descending order\n",
    "corr_df = corr_df.sort_values(\"corr\", ascending=False)"
   ]
  },
  {
   "cell_type": "code",
   "execution_count": 67,
   "id": "eeadfbd4",
   "metadata": {},
   "outputs": [
    {
     "data": {
      "text/html": [
       "<div>\n",
       "<style scoped>\n",
       "    .dataframe tbody tr th:only-of-type {\n",
       "        vertical-align: middle;\n",
       "    }\n",
       "\n",
       "    .dataframe tbody tr th {\n",
       "        vertical-align: top;\n",
       "    }\n",
       "\n",
       "    .dataframe thead th {\n",
       "        text-align: right;\n",
       "    }\n",
       "</style>\n",
       "<table border=\"1\" class=\"dataframe\">\n",
       "  <thead>\n",
       "    <tr style=\"text-align: right;\">\n",
       "      <th></th>\n",
       "      <th>feature</th>\n",
       "      <th>corr</th>\n",
       "    </tr>\n",
       "  </thead>\n",
       "  <tbody>\n",
       "    <tr>\n",
       "      <th>0</th>\n",
       "      <td>TOTAL WORKERS</td>\n",
       "      <td>5.944834e-01</td>\n",
       "    </tr>\n",
       "    <tr>\n",
       "      <th>3</th>\n",
       "      <td>EMPLOYMENT DURATION</td>\n",
       "      <td>5.648558e-158</td>\n",
       "    </tr>\n",
       "    <tr>\n",
       "      <th>1</th>\n",
       "      <td>PREVAILING WAGE</td>\n",
       "      <td>9.261018e-190</td>\n",
       "    </tr>\n",
       "    <tr>\n",
       "      <th>2</th>\n",
       "      <td>WAGE RATE OF PAY</td>\n",
       "      <td>0.000000e+00</td>\n",
       "    </tr>\n",
       "  </tbody>\n",
       "</table>\n",
       "</div>"
      ],
      "text/plain": [
       "               feature           corr\n",
       "0        TOTAL WORKERS   5.944834e-01\n",
       "3  EMPLOYMENT DURATION  5.648558e-158\n",
       "1      PREVAILING WAGE  9.261018e-190\n",
       "2     WAGE RATE OF PAY   0.000000e+00"
      ]
     },
     "execution_count": 67,
     "metadata": {},
     "output_type": "execute_result"
    }
   ],
   "source": [
    "corr_df"
   ]
  },
  {
   "cell_type": "markdown",
   "id": "2d3676ba",
   "metadata": {},
   "source": [
    "The table shows the correlation coefficients between the features and the petition success in a logistic regression model.\n",
    "\n",
    "\"TOTAL WORKERS\" has the highest correlation with petition success with a coefficient of 0.594. This suggests that as the number of workers increases, the likelihood of a successful petition also increases.\n",
    "\n",
    "\"EMPLOYMENT DURATION\" has a very strong negative correlation with petition success, with a coefficient of 5.648558e-158. This means that the longer the employment duration, the less likely the petition is to be successful.\n",
    "\n",
    "\"PREVAILING WAGE\" also has a very strong negative correlation with petition success, with a coefficient of 9.261018e-190. This suggests that the higher the prevailing wage, the less likely the petition is to be successful.\n",
    "\n",
    "\"WAGE RATE OF PAY\" has a correlation coefficient of 0, indicating no correlation with petition success.\n",
    "\n",
    "Overall, it appears that the number of workers is the most important factor in determining petition success, followed by the prevailing wage and employment duration. The wage rate of pay does not seem to have any significant impact."
   ]
  },
  {
   "cell_type": "markdown",
   "id": "3497e678",
   "metadata": {},
   "source": [
    "# Develop and train models to predict visa petition outcomes"
   ]
  },
  {
   "cell_type": "code",
   "execution_count": 68,
   "id": "b0e7f80a",
   "metadata": {},
   "outputs": [],
   "source": [
    "from sklearn.metrics import roc_curve\n",
    "from sklearn.metrics import auc\n",
    "def roc_curve_graph(x_test,y_test,model):\n",
    "    preds = model. predict_proba(x_test) [:,1]\n",
    "    #Compute Receiver operating characteristic (ROC) curve\n",
    "    fpr, tpr, threshold = roc_curve(y_test, preds)\n",
    "    #ROC Score\n",
    "    roc_auc = auc(fpr, tpr)\n",
    "    plt.title('Receiver Operating Characteristic (ROC)')\n",
    "    plt.plot(fpr, tpr, 'b', label = 'AUC = %0.2f' % roc_auc)\n",
    "    plt.legend(loc = 'lower right')\n",
    "    plt.plot([0, 1], [0, 1],'r--')\n",
    "    plt.xlim([0, 1])\n",
    "    plt.ylim([0, 1])\n",
    "    plt.ylabel('True Positive Rate')\n",
    "    plt.xlabel('False Positive Rate')\n",
    "    plt.show()"
   ]
  },
  {
   "cell_type": "code",
   "execution_count": 69,
   "id": "2e51132c",
   "metadata": {},
   "outputs": [],
   "source": [
    "def metrics_cal(x_test,y_test,prediction,model):    \n",
    "    print(\"Model Accuracy:\",metrics.accuracy_score(y_test, prediction))\n",
    "    probs = model.predict_proba(x_test)\n",
    "    roc_auc = metrics.roc_auc_score(y_test, probs[:,1]) \n",
    "    print(\"ROC:\",roc_auc)\n",
    "    print(\"Confusion Matrix:\",metrics.confusion_matrix(y_test, prediction)) \n",
    "    print(\"Classification Report:\", metrics.classification_report(y_test, prediction))  \n",
    "    print(\"precision:\",metrics.precision_score(y_test, prediction, pos_label=1))  \n",
    "    print(\"Recall:\",metrics.recall_score(y_test, prediction, pos_label=1))  \n",
    "    print(\"F1 Score:\",metrics.f1_score(y_test, prediction, pos_label=1))"
   ]
  },
  {
   "cell_type": "code",
   "execution_count": 70,
   "id": "ffa9a155",
   "metadata": {},
   "outputs": [],
   "source": [
    "from sklearn import metrics\n",
    "\n",
    "def train_test_acc(model,x_train,y_train,x_test,y_test):\n",
    "    print('Accuracy on training set: {:.2f}'\n",
    "     .format(model.score(x_train, y_train)))\n",
    "    print('Accuracy on test set: {:.2f}'\n",
    "     .format(model.score(x_test, y_test)))"
   ]
  },
  {
   "cell_type": "code",
   "execution_count": 71,
   "id": "18cf04f8",
   "metadata": {},
   "outputs": [
    {
     "name": "stdout",
     "output_type": "stream",
     "text": [
      "(24102, 17456) (24102,)\n",
      "(10330, 17456) (10330,)\n"
     ]
    }
   ],
   "source": [
    "x = M_df.drop('FINAL DECISION', axis=1)\n",
    "y = M_df['FINAL DECISION']\n",
    "\n",
    "seed = 7\n",
    "from sklearn.model_selection import train_test_split\n",
    "x_train, x_test, y_train, y_test = train_test_split(x, y, test_size=0.3, random_state=seed)\n",
    "print(x_train.shape,y_train.shape)\n",
    "print(x_test.shape,y_test.shape)"
   ]
  },
  {
   "cell_type": "markdown",
   "id": "60b1f41f",
   "metadata": {},
   "source": [
    "### Logistic Regression"
   ]
  },
  {
   "cell_type": "code",
   "execution_count": 72,
   "id": "5b77cba2",
   "metadata": {},
   "outputs": [
    {
     "name": "stderr",
     "output_type": "stream",
     "text": [
      "/opt/anaconda3/lib/python3.9/site-packages/sklearn/linear_model/_logistic.py:444: ConvergenceWarning: lbfgs failed to converge (status=1):\n",
      "STOP: TOTAL NO. of ITERATIONS REACHED LIMIT.\n",
      "\n",
      "Increase the number of iterations (max_iter) or scale the data as shown in:\n",
      "    https://scikit-learn.org/stable/modules/preprocessing.html\n",
      "Please also refer to the documentation for alternative solver options:\n",
      "    https://scikit-learn.org/stable/modules/linear_model.html#logistic-regression\n",
      "  n_iter_i = _check_optimize_result(\n"
     ]
    },
    {
     "data": {
      "text/html": [
       "<style>#sk-container-id-1 {color: black;background-color: white;}#sk-container-id-1 pre{padding: 0;}#sk-container-id-1 div.sk-toggleable {background-color: white;}#sk-container-id-1 label.sk-toggleable__label {cursor: pointer;display: block;width: 100%;margin-bottom: 0;padding: 0.3em;box-sizing: border-box;text-align: center;}#sk-container-id-1 label.sk-toggleable__label-arrow:before {content: \"▸\";float: left;margin-right: 0.25em;color: #696969;}#sk-container-id-1 label.sk-toggleable__label-arrow:hover:before {color: black;}#sk-container-id-1 div.sk-estimator:hover label.sk-toggleable__label-arrow:before {color: black;}#sk-container-id-1 div.sk-toggleable__content {max-height: 0;max-width: 0;overflow: hidden;text-align: left;background-color: #f0f8ff;}#sk-container-id-1 div.sk-toggleable__content pre {margin: 0.2em;color: black;border-radius: 0.25em;background-color: #f0f8ff;}#sk-container-id-1 input.sk-toggleable__control:checked~div.sk-toggleable__content {max-height: 200px;max-width: 100%;overflow: auto;}#sk-container-id-1 input.sk-toggleable__control:checked~label.sk-toggleable__label-arrow:before {content: \"▾\";}#sk-container-id-1 div.sk-estimator input.sk-toggleable__control:checked~label.sk-toggleable__label {background-color: #d4ebff;}#sk-container-id-1 div.sk-label input.sk-toggleable__control:checked~label.sk-toggleable__label {background-color: #d4ebff;}#sk-container-id-1 input.sk-hidden--visually {border: 0;clip: rect(1px 1px 1px 1px);clip: rect(1px, 1px, 1px, 1px);height: 1px;margin: -1px;overflow: hidden;padding: 0;position: absolute;width: 1px;}#sk-container-id-1 div.sk-estimator {font-family: monospace;background-color: #f0f8ff;border: 1px dotted black;border-radius: 0.25em;box-sizing: border-box;margin-bottom: 0.5em;}#sk-container-id-1 div.sk-estimator:hover {background-color: #d4ebff;}#sk-container-id-1 div.sk-parallel-item::after {content: \"\";width: 100%;border-bottom: 1px solid gray;flex-grow: 1;}#sk-container-id-1 div.sk-label:hover label.sk-toggleable__label {background-color: #d4ebff;}#sk-container-id-1 div.sk-serial::before {content: \"\";position: absolute;border-left: 1px solid gray;box-sizing: border-box;top: 0;bottom: 0;left: 50%;z-index: 0;}#sk-container-id-1 div.sk-serial {display: flex;flex-direction: column;align-items: center;background-color: white;padding-right: 0.2em;padding-left: 0.2em;position: relative;}#sk-container-id-1 div.sk-item {position: relative;z-index: 1;}#sk-container-id-1 div.sk-parallel {display: flex;align-items: stretch;justify-content: center;background-color: white;position: relative;}#sk-container-id-1 div.sk-item::before, #sk-container-id-1 div.sk-parallel-item::before {content: \"\";position: absolute;border-left: 1px solid gray;box-sizing: border-box;top: 0;bottom: 0;left: 50%;z-index: -1;}#sk-container-id-1 div.sk-parallel-item {display: flex;flex-direction: column;z-index: 1;position: relative;background-color: white;}#sk-container-id-1 div.sk-parallel-item:first-child::after {align-self: flex-end;width: 50%;}#sk-container-id-1 div.sk-parallel-item:last-child::after {align-self: flex-start;width: 50%;}#sk-container-id-1 div.sk-parallel-item:only-child::after {width: 0;}#sk-container-id-1 div.sk-dashed-wrapped {border: 1px dashed gray;margin: 0 0.4em 0.5em 0.4em;box-sizing: border-box;padding-bottom: 0.4em;background-color: white;}#sk-container-id-1 div.sk-label label {font-family: monospace;font-weight: bold;display: inline-block;line-height: 1.2em;}#sk-container-id-1 div.sk-label-container {text-align: center;}#sk-container-id-1 div.sk-container {/* jupyter's `normalize.less` sets `[hidden] { display: none; }` but bootstrap.min.css set `[hidden] { display: none !important; }` so we also need the `!important` here to be able to override the default hidden behavior on the sphinx rendered scikit-learn.org. See: https://github.com/scikit-learn/scikit-learn/issues/21755 */display: inline-block !important;position: relative;}#sk-container-id-1 div.sk-text-repr-fallback {display: none;}</style><div id=\"sk-container-id-1\" class=\"sk-top-container\"><div class=\"sk-text-repr-fallback\"><pre>LogisticRegression()</pre><b>In a Jupyter environment, please rerun this cell to show the HTML representation or trust the notebook. <br />On GitHub, the HTML representation is unable to render, please try loading this page with nbviewer.org.</b></div><div class=\"sk-container\" hidden><div class=\"sk-item\"><div class=\"sk-estimator sk-toggleable\"><input class=\"sk-toggleable__control sk-hidden--visually\" id=\"sk-estimator-id-1\" type=\"checkbox\" checked><label for=\"sk-estimator-id-1\" class=\"sk-toggleable__label sk-toggleable__label-arrow\">LogisticRegression</label><div class=\"sk-toggleable__content\"><pre>LogisticRegression()</pre></div></div></div></div></div>"
      ],
      "text/plain": [
       "LogisticRegression()"
      ]
     },
     "execution_count": 72,
     "metadata": {},
     "output_type": "execute_result"
    }
   ],
   "source": [
    "#Train Model\n",
    "from sklearn.linear_model import LogisticRegression\n",
    "logit=LogisticRegression()\n",
    "logit.fit(x_train,y_train)"
   ]
  },
  {
   "cell_type": "code",
   "execution_count": 73,
   "id": "6096a667",
   "metadata": {},
   "outputs": [],
   "source": [
    "#Test Model\n",
    "prediction=logit.predict(x_test)"
   ]
  },
  {
   "cell_type": "markdown",
   "id": "4c436aab",
   "metadata": {},
   "source": [
    "### Decision Tree"
   ]
  },
  {
   "cell_type": "code",
   "execution_count": 74,
   "id": "bd22da19",
   "metadata": {},
   "outputs": [],
   "source": [
    "from sklearn.tree import DecisionTreeClassifier\n",
    "# Train Decision Tree Classifer\n",
    "Tree = DecisionTreeClassifier().fit(x_train, y_train)\n",
    "\n",
    "#Predict the response for test dataset\n",
    "y_pred = Tree.predict(x_test)"
   ]
  },
  {
   "cell_type": "markdown",
   "id": "50efcc40",
   "metadata": {},
   "source": [
    "### Random Forest "
   ]
  },
  {
   "cell_type": "code",
   "execution_count": 75,
   "id": "364328e6",
   "metadata": {},
   "outputs": [],
   "source": [
    "#Import Random Forest Model\n",
    "from sklearn.ensemble import RandomForestClassifier\n",
    "\n",
    "# Train Random Forest Classifer\n",
    "Forest = RandomForestClassifier().fit(x_train, y_train)  \n",
    "\n",
    "#Predict the response for test dataset\n",
    "y_pred=Forest.predict(x_test)"
   ]
  },
  {
   "cell_type": "markdown",
   "id": "989c1dff",
   "metadata": {},
   "source": [
    "# Evaluate and compare model performance"
   ]
  },
  {
   "cell_type": "markdown",
   "id": "e6a3ed2e",
   "metadata": {},
   "source": [
    "The metrics used for evaluation are F1 score, precision, recall, and ROC curve. The F1 score is a weighted harmonic mean of precision and recall, while precision measures the ability of the classifier to correctly label positive samples and recall measures the ability of the classifier to correctly identify all positive samples. The ROC curve displays true positive rate on the Y-axis and false positive rate on the X-axis, and a larger area under the curve (AUC) is usually better.\n",
    "\n"
   ]
  },
  {
   "cell_type": "markdown",
   "id": "c8557e5a",
   "metadata": {},
   "source": [
    "### Forest\n",
    "\n",
    "ROC: 0.79\n",
    "\n",
    "precision: 0.71\n",
    "\n",
    "Recall: 0.74\n",
    "\n",
    "F1 Score: 0.72\n"
   ]
  },
  {
   "cell_type": "code",
   "execution_count": 76,
   "id": "6c77f3ee",
   "metadata": {},
   "outputs": [
    {
     "name": "stdout",
     "output_type": "stream",
     "text": [
      "Accuracy on training set: 0.99\n",
      "Accuracy on test set: 0.72\n",
      "Model Accuracy: 0.7196515004840272\n",
      "ROC: 0.7944461100874842\n",
      "Confusion Matrix: [[3622 1572]\n",
      " [1324 3812]]\n",
      "Classification Report:               precision    recall  f1-score   support\n",
      "\n",
      "           0       0.73      0.70      0.71      5194\n",
      "           1       0.71      0.74      0.72      5136\n",
      "\n",
      "    accuracy                           0.72     10330\n",
      "   macro avg       0.72      0.72      0.72     10330\n",
      "weighted avg       0.72      0.72      0.72     10330\n",
      "\n",
      "precision: 0.7080237741456167\n",
      "Recall: 0.7422118380062306\n",
      "F1 Score: 0.7247148288973385\n"
     ]
    },
    {
     "data": {
      "image/png": "[encoded data removed]",
      "text/plain": [
       "<Figure size 640x480 with 1 Axes>"
      ]
     },
     "metadata": {},
     "output_type": "display_data"
    }
   ],
   "source": [
    "#Train-Test Accuracy\n",
    "train_test_acc(Forest,x_train,y_train,x_test,y_test)\n",
    "\n",
    "#Metrics Calculation\n",
    "metrics_cal(x_test,y_test,y_pred,Forest)\n",
    "\n",
    "#ROC Curve create\n",
    "roc_curve_graph(x_test,y_test,Forest)"
   ]
  },
  {
   "cell_type": "markdown",
   "id": "22015cac",
   "metadata": {},
   "source": [
    "### Logit\n",
    "\n",
    "ROC: 0.78\n",
    "\n",
    "precision: 0.71\n",
    "\n",
    "Recall: 0.73\n",
    "\n",
    "F1 Score: 0.72"
   ]
  },
  {
   "cell_type": "code",
   "execution_count": 77,
   "id": "ece37f1a",
   "metadata": {},
   "outputs": [
    {
     "name": "stdout",
     "output_type": "stream",
     "text": [
      "Accuracy on training set: 0.84\n",
      "Accuracy on test set: 0.72\n",
      "Model Accuracy: 0.7180058083252662\n",
      "ROC: 0.7889695807347802\n",
      "Confusion Matrix: [[3667 1527]\n",
      " [1386 3750]]\n",
      "Classification Report:               precision    recall  f1-score   support\n",
      "\n",
      "           0       0.73      0.71      0.72      5194\n",
      "           1       0.71      0.73      0.72      5136\n",
      "\n",
      "    accuracy                           0.72     10330\n",
      "   macro avg       0.72      0.72      0.72     10330\n",
      "weighted avg       0.72      0.72      0.72     10330\n",
      "\n",
      "precision: 0.7106310403638431\n",
      "Recall: 0.7301401869158879\n",
      "F1 Score: 0.7202535292422932\n"
     ]
    },
    {
     "data": {
      "image/png": "[encoded data removed]",
      "text/plain": [
       "<Figure size 640x480 with 1 Axes>"
      ]
     },
     "metadata": {},
     "output_type": "display_data"
    }
   ],
   "source": [
    "#Train-Test Accuracy\n",
    "train_test_acc(logit,x_train,y_train,x_test,y_test)\n",
    "\n",
    "#Metrics Calculation\n",
    "metrics_cal(x_test,y_test,prediction,logit)\n",
    "\n",
    "#ROC Curve create\n",
    "roc_curve_graph(x_test,y_test,logit)"
   ]
  },
  {
   "cell_type": "markdown",
   "id": "c797ccf4",
   "metadata": {},
   "source": [
    "### Tree\n",
    "\n",
    "ROC: 0.68\n",
    "\n",
    "precision: 0.70\n",
    "\n",
    "Recall: 0.74\n",
    "\n",
    "F1 Score: 0.72"
   ]
  },
  {
   "cell_type": "code",
   "execution_count": 78,
   "id": "7cb8181c",
   "metadata": {},
   "outputs": [
    {
     "name": "stdout",
     "output_type": "stream",
     "text": [
      "Accuracy on training set: 0.99\n",
      "Accuracy on test set: 0.69\n",
      "Model Accuracy: 0.7196515004840272\n",
      "ROC: 0.6863029299623217\n",
      "Confusion Matrix: [[3622 1572]\n",
      " [1324 3812]]\n",
      "Classification Report:               precision    recall  f1-score   support\n",
      "\n",
      "           0       0.73      0.70      0.71      5194\n",
      "           1       0.71      0.74      0.72      5136\n",
      "\n",
      "    accuracy                           0.72     10330\n",
      "   macro avg       0.72      0.72      0.72     10330\n",
      "weighted avg       0.72      0.72      0.72     10330\n",
      "\n",
      "precision: 0.7080237741456167\n",
      "Recall: 0.7422118380062306\n",
      "F1 Score: 0.7247148288973385\n"
     ]
    },
    {
     "data": {
      "image/png": "[encoded data removed]",
      "text/plain": [
       "<Figure size 640x480 with 1 Axes>"
      ]
     },
     "metadata": {},
     "output_type": "display_data"
    }
   ],
   "source": [
    "#### Train-Test Accuracy\n",
    "train_test_acc(Tree,x_train,y_train,x_test,y_test)\n",
    "\n",
    "#Metrics Calculation\n",
    "metrics_cal(x_test,y_test,y_pred,Tree)\n",
    "\n",
    "#ROC Curve create\n",
    "roc_curve_graph(x_test,y_test,Tree)"
   ]
  },
  {
   "cell_type": "markdown",
   "id": "b04cd3d6",
   "metadata": {},
   "source": [
    "# Summarize findings and provide recommendations"
   ]
  },
  {
   "cell_type": "markdown",
   "id": "6bd5c22e",
   "metadata": {},
   "source": [
    "Based on these evaluation metrics, it can be concluded that the Random Forest and Logistic Regression models have similar performance in classifying the dataset. The Decision Tree model has a lower performance compared to the other two models. Overall, the models have achieved an accuracy of around 70%, which is not bad but leaves room for further improvement.\n"
   ]
  },
  {
   "cell_type": "markdown",
   "id": "49777516",
   "metadata": {},
   "source": [
    "In future work, there are several ways to improve the model accuracy. \n",
    "\n",
    "1. Oversampling can be applied to the dataset instead of downsampling to add more information. \n",
    "2. Other models can be applied to the dataset.\n",
    "3. Feature selection algorithms can also be used to reduce the number of categories in each column."
   ]
  },
  {
   "cell_type": "code",
   "execution_count": null,
   "id": "1d74ab98",
   "metadata": {},
   "outputs": [],
   "source": []
  }
 ],
 "metadata": {
  "kernelspec": {
   "display_name": "Python 3 (ipykernel)",
   "language": "python",
   "name": "python3"
  },
  "language_info": {
   "codemirror_mode": {
    "name": "ipython",
    "version": 3
   },
   "file_extension": ".py",
   "mimetype": "text/x-python",
   "name": "python",
   "nbconvert_exporter": "python",
   "pygments_lexer": "ipython3",
   "version": "3.9.7"
  }
 },
 "nbformat": 4,
 "nbformat_minor": 5
}
